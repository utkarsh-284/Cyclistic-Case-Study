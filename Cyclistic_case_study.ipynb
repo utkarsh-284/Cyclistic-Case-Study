{
  "nbformat": 4,
  "nbformat_minor": 0,
  "metadata": {
    "colab": {
      "provenance": [],
      "authorship_tag": "ABX9TyPgWuvXer6L9BDfCtx38EyJ",
      "include_colab_link": true
    },
    "kernelspec": {
      "name": "ir",
      "display_name": "R"
    },
    "language_info": {
      "name": "R"
    }
  },
  "cells": [
    {
      "cell_type": "markdown",
      "metadata": {
        "id": "view-in-github",
        "colab_type": "text"
      },
      "source": [
        "<a href=\"https://colab.research.google.com/github/utkarsh-284/Cyclistic-Case-Study/blob/main/Cyclistic_case_study.ipynb\" target=\"_parent\"><img src=\"https://colab.research.google.com/assets/colab-badge.svg\" alt=\"Open In Colab\"/></a>"
      ]
    },
    {
      "cell_type": "markdown",
      "source": [
        "<h1 align='center'>Cyclistic Case Study</h1>"
      ],
      "metadata": {
        "id": "OipbB1kLoCST"
      }
    },
    {
      "cell_type": "markdown",
      "source": [
        "# Importing Libraries"
      ],
      "metadata": {
        "id": "7_Wt1GsVYPsv"
      }
    },
    {
      "cell_type": "code",
      "execution_count": 1,
      "metadata": {
        "id": "MO4R4nd9JPWW",
        "colab": {
          "base_uri": "https://localhost:8080/"
        },
        "outputId": "bf1a742c-d8a6-4db3-c26b-6a8aa73c13cc"
      },
      "outputs": [
        {
          "output_type": "stream",
          "name": "stderr",
          "text": [
            "── \u001b[1mAttaching core tidyverse packages\u001b[22m ──────────────────────── tidyverse 2.0.0 ──\n",
            "\u001b[32m✔\u001b[39m \u001b[34mdplyr    \u001b[39m 1.1.4     \u001b[32m✔\u001b[39m \u001b[34mreadr    \u001b[39m 2.1.5\n",
            "\u001b[32m✔\u001b[39m \u001b[34mforcats  \u001b[39m 1.0.0     \u001b[32m✔\u001b[39m \u001b[34mstringr  \u001b[39m 1.5.1\n",
            "\u001b[32m✔\u001b[39m \u001b[34mggplot2  \u001b[39m 3.5.1     \u001b[32m✔\u001b[39m \u001b[34mtibble   \u001b[39m 3.2.1\n",
            "\u001b[32m✔\u001b[39m \u001b[34mlubridate\u001b[39m 1.9.4     \u001b[32m✔\u001b[39m \u001b[34mtidyr    \u001b[39m 1.3.1\n",
            "\u001b[32m✔\u001b[39m \u001b[34mpurrr    \u001b[39m 1.0.4     \n",
            "── \u001b[1mConflicts\u001b[22m ────────────────────────────────────────── tidyverse_conflicts() ──\n",
            "\u001b[31m✖\u001b[39m \u001b[34mdplyr\u001b[39m::\u001b[32mfilter()\u001b[39m masks \u001b[34mstats\u001b[39m::filter()\n",
            "\u001b[31m✖\u001b[39m \u001b[34mdplyr\u001b[39m::\u001b[32mlag()\u001b[39m    masks \u001b[34mstats\u001b[39m::lag()\n",
            "\u001b[36mℹ\u001b[39m Use the conflicted package (\u001b[3m\u001b[34m<http://conflicted.r-lib.org/>\u001b[39m\u001b[23m) to force all conflicts to become errors\n"
          ]
        }
      ],
      "source": [
        "library(tidyverse)"
      ]
    },
    {
      "cell_type": "code",
      "source": [
        "# Use the conflicted package to manage conflicts\n",
        "library(conflicted)"
      ],
      "metadata": {
        "id": "kx4anIxWJW7l"
      },
      "execution_count": 2,
      "outputs": []
    },
    {
      "cell_type": "code",
      "source": [
        "# Set dplyr::filter and dplyr::lag as the default choices\n",
        "conflict_prefer(\"filter\", \"dplyr\")\n",
        "conflict_prefer(\"lag\", \"dplyr\")\n",
        "conflict_prefer(\"select\", \"dplyr\")"
      ],
      "metadata": {
        "colab": {
          "base_uri": "https://localhost:8080/"
        },
        "id": "L5BJ0-kTJcOz",
        "outputId": "b173b9f3-e7dc-44e6-ab1d-8177fd93aaf5"
      },
      "execution_count": 3,
      "outputs": [
        {
          "output_type": "stream",
          "name": "stderr",
          "text": [
            "\u001b[1m\u001b[22m\u001b[90m[conflicted]\u001b[39m Will prefer \u001b[1m\u001b[34mdplyr\u001b[39m\u001b[22m::filter over any other package.\n",
            "\u001b[1m\u001b[22m\u001b[90m[conflicted]\u001b[39m Will prefer \u001b[1m\u001b[34mdplyr\u001b[39m\u001b[22m::lag over any other package.\n",
            "\u001b[1m\u001b[22m\u001b[90m[conflicted]\u001b[39m Will prefer \u001b[1m\u001b[34mdplyr\u001b[39m\u001b[22m::select over any other package.\n"
          ]
        }
      ]
    },
    {
      "cell_type": "markdown",
      "source": [
        "# Loading and Exploring Data"
      ],
      "metadata": {
        "id": "Y95rzfJ6YXQC"
      }
    },
    {
      "cell_type": "code",
      "source": [
        "# Loading Data\n",
        "Q1_2019 <- read.csv(\"/content/Divvy_Trips_2019_Q1.csv\")\n",
        "Q1_2020 <- read.csv(\"/content/Divvy_Trips_2020_Q1.csv\")"
      ],
      "metadata": {
        "id": "1VZmN3KjJgUh"
      },
      "execution_count": 4,
      "outputs": []
    },
    {
      "cell_type": "code",
      "source": [
        "colnames(Q1_2019)"
      ],
      "metadata": {
        "colab": {
          "base_uri": "https://localhost:8080/",
          "height": 34
        },
        "id": "Io2Yr3hLKaxu",
        "outputId": "1a184dae-a815-4b14-bc7d-9a09cbcecd74"
      },
      "execution_count": 5,
      "outputs": [
        {
          "output_type": "display_data",
          "data": {
            "text/html": [
              "<style>\n",
              ".list-inline {list-style: none; margin:0; padding: 0}\n",
              ".list-inline>li {display: inline-block}\n",
              ".list-inline>li:not(:last-child)::after {content: \"\\00b7\"; padding: 0 .5ex}\n",
              "</style>\n",
              "<ol class=list-inline><li>'trip_id'</li><li>'start_time'</li><li>'end_time'</li><li>'bikeid'</li><li>'tripduration'</li><li>'from_station_id'</li><li>'from_station_name'</li><li>'to_station_id'</li><li>'to_station_name'</li><li>'usertype'</li><li>'gender'</li><li>'birthyear'</li></ol>\n"
            ],
            "text/markdown": "1. 'trip_id'\n2. 'start_time'\n3. 'end_time'\n4. 'bikeid'\n5. 'tripduration'\n6. 'from_station_id'\n7. 'from_station_name'\n8. 'to_station_id'\n9. 'to_station_name'\n10. 'usertype'\n11. 'gender'\n12. 'birthyear'\n\n\n",
            "text/latex": "\\begin{enumerate*}\n\\item 'trip\\_id'\n\\item 'start\\_time'\n\\item 'end\\_time'\n\\item 'bikeid'\n\\item 'tripduration'\n\\item 'from\\_station\\_id'\n\\item 'from\\_station\\_name'\n\\item 'to\\_station\\_id'\n\\item 'to\\_station\\_name'\n\\item 'usertype'\n\\item 'gender'\n\\item 'birthyear'\n\\end{enumerate*}\n",
            "text/plain": [
              " [1] \"trip_id\"           \"start_time\"        \"end_time\"         \n",
              " [4] \"bikeid\"            \"tripduration\"      \"from_station_id\"  \n",
              " [7] \"from_station_name\" \"to_station_id\"     \"to_station_name\"  \n",
              "[10] \"usertype\"          \"gender\"            \"birthyear\"        "
            ]
          },
          "metadata": {}
        }
      ]
    },
    {
      "cell_type": "code",
      "source": [
        "colnames(Q1_2020)"
      ],
      "metadata": {
        "colab": {
          "base_uri": "https://localhost:8080/",
          "height": 52
        },
        "id": "jkKF0kC_KfbN",
        "outputId": "2072fcb6-b976-4bcb-a16b-b44920801654"
      },
      "execution_count": 6,
      "outputs": [
        {
          "output_type": "display_data",
          "data": {
            "text/html": [
              "<style>\n",
              ".list-inline {list-style: none; margin:0; padding: 0}\n",
              ".list-inline>li {display: inline-block}\n",
              ".list-inline>li:not(:last-child)::after {content: \"\\00b7\"; padding: 0 .5ex}\n",
              "</style>\n",
              "<ol class=list-inline><li>'ride_id'</li><li>'rideable_type'</li><li>'started_at'</li><li>'ended_at'</li><li>'start_station_name'</li><li>'start_station_id'</li><li>'end_station_name'</li><li>'end_station_id'</li><li>'start_lat'</li><li>'start_lng'</li><li>'end_lat'</li><li>'end_lng'</li><li>'member_casual'</li></ol>\n"
            ],
            "text/markdown": "1. 'ride_id'\n2. 'rideable_type'\n3. 'started_at'\n4. 'ended_at'\n5. 'start_station_name'\n6. 'start_station_id'\n7. 'end_station_name'\n8. 'end_station_id'\n9. 'start_lat'\n10. 'start_lng'\n11. 'end_lat'\n12. 'end_lng'\n13. 'member_casual'\n\n\n",
            "text/latex": "\\begin{enumerate*}\n\\item 'ride\\_id'\n\\item 'rideable\\_type'\n\\item 'started\\_at'\n\\item 'ended\\_at'\n\\item 'start\\_station\\_name'\n\\item 'start\\_station\\_id'\n\\item 'end\\_station\\_name'\n\\item 'end\\_station\\_id'\n\\item 'start\\_lat'\n\\item 'start\\_lng'\n\\item 'end\\_lat'\n\\item 'end\\_lng'\n\\item 'member\\_casual'\n\\end{enumerate*}\n",
            "text/plain": [
              " [1] \"ride_id\"            \"rideable_type\"      \"started_at\"        \n",
              " [4] \"ended_at\"           \"start_station_name\" \"start_station_id\"  \n",
              " [7] \"end_station_name\"   \"end_station_id\"     \"start_lat\"         \n",
              "[10] \"start_lng\"          \"end_lat\"            \"end_lng\"           \n",
              "[13] \"member_casual\"     "
            ]
          },
          "metadata": {}
        }
      ]
    },
    {
      "cell_type": "markdown",
      "source": [
        "We can see that there are many coloumns which have different names but contains same information. To make data consistent for both the years, we'll change the name of columns for 2019's data according to 2020's."
      ],
      "metadata": {
        "id": "JNTy4K-XVIvf"
      }
    },
    {
      "cell_type": "code",
      "source": [
        "# Renaming column of 2019 data to make it consistent with that of 2020\n",
        "(Q1_2019<- rename(Q1_2019,\n",
        "                 ride_id = trip_id,\n",
        "                 rideable_type = bikeid,\n",
        "                 started_at = start_time,\n",
        "                 ended_at = end_time,\n",
        "                 start_station_name = from_station_name,\n",
        "                 start_station_id = from_station_id,\n",
        "                 end_station_name = to_station_name,\n",
        "                 end_station_id = to_station_id,\n",
        "                 member_casual = usertype))"
      ],
      "metadata": {
        "colab": {
          "base_uri": "https://localhost:8080/",
          "height": 1000
        },
        "id": "HRovf6NIKhw9",
        "outputId": "431a7b04-1f9a-4f42-cae9-ec2397796c5c"
      },
      "execution_count": 7,
      "outputs": [
        {
          "output_type": "display_data",
          "data": {
            "text/html": [
              "<table class=\"dataframe\">\n",
              "<caption>A data.frame: 365069 × 12</caption>\n",
              "<thead>\n",
              "\t<tr><th scope=col>ride_id</th><th scope=col>started_at</th><th scope=col>ended_at</th><th scope=col>rideable_type</th><th scope=col>tripduration</th><th scope=col>start_station_id</th><th scope=col>start_station_name</th><th scope=col>end_station_id</th><th scope=col>end_station_name</th><th scope=col>member_casual</th><th scope=col>gender</th><th scope=col>birthyear</th></tr>\n",
              "\t<tr><th scope=col>&lt;int&gt;</th><th scope=col>&lt;chr&gt;</th><th scope=col>&lt;chr&gt;</th><th scope=col>&lt;int&gt;</th><th scope=col>&lt;chr&gt;</th><th scope=col>&lt;int&gt;</th><th scope=col>&lt;chr&gt;</th><th scope=col>&lt;int&gt;</th><th scope=col>&lt;chr&gt;</th><th scope=col>&lt;chr&gt;</th><th scope=col>&lt;chr&gt;</th><th scope=col>&lt;int&gt;</th></tr>\n",
              "</thead>\n",
              "<tbody>\n",
              "\t<tr><td>21742443</td><td>2019-01-01 0.04.37</td><td>2019-01-01 0.11.07</td><td>2167</td><td><span style=white-space:pre-wrap>390     </span></td><td>199</td><td><span style=white-space:pre-wrap>Wabash Ave &amp; Grand Ave             </span></td><td> 84</td><td><span style=white-space:pre-wrap>Milwaukee Ave &amp; Grand Ave     </span></td><td>Subscriber</td><td><span style=white-space:pre-wrap>Male  </span></td><td>1989</td></tr>\n",
              "\t<tr><td>21742444</td><td>2019-01-01 0.08.13</td><td>2019-01-01 0.15.34</td><td>4386</td><td><span style=white-space:pre-wrap>441     </span></td><td> 44</td><td><span style=white-space:pre-wrap>State St &amp; Randolph St             </span></td><td>624</td><td>Dearborn St &amp; Van Buren St (*)</td><td>Subscriber</td><td>Female</td><td>1990</td></tr>\n",
              "\t<tr><td>21742445</td><td>2019-01-01 0.13.23</td><td>2019-01-01 0.27.12</td><td>1524</td><td><span style=white-space:pre-wrap>829     </span></td><td> 15</td><td><span style=white-space:pre-wrap>Racine Ave &amp; 18th St               </span></td><td>644</td><td>Western Ave &amp; Fillmore St (*) </td><td>Subscriber</td><td>Female</td><td>1994</td></tr>\n",
              "\t<tr><td>21742446</td><td>2019-01-01 0.13.45</td><td>2019-01-01 0.43.28</td><td> 252</td><td>1,783.00</td><td>123</td><td><span style=white-space:pre-wrap>California Ave &amp; Milwaukee Ave     </span></td><td>176</td><td><span style=white-space:pre-wrap>Clark St &amp; Elm St             </span></td><td>Subscriber</td><td><span style=white-space:pre-wrap>Male  </span></td><td>1993</td></tr>\n",
              "\t<tr><td>21742447</td><td>2019-01-01 0.14.52</td><td>2019-01-01 0.20.56</td><td>1170</td><td><span style=white-space:pre-wrap>364     </span></td><td>173</td><td>Mies van der Rohe Way &amp; Chicago Ave</td><td> 35</td><td><span style=white-space:pre-wrap>Streeter Dr &amp; Grand Ave       </span></td><td>Subscriber</td><td><span style=white-space:pre-wrap>Male  </span></td><td>1994</td></tr>\n",
              "\t<tr><td>21742448</td><td>2019-01-01 0.15.33</td><td>2019-01-01 0.19.09</td><td>2437</td><td><span style=white-space:pre-wrap>216     </span></td><td> 98</td><td><span style=white-space:pre-wrap>LaSalle St &amp; Washington St         </span></td><td> 49</td><td><span style=white-space:pre-wrap>Dearborn St &amp; Monroe St       </span></td><td>Subscriber</td><td>Female</td><td>1983</td></tr>\n",
              "\t<tr><td>21742449</td><td>2019-01-01 0.16.06</td><td>2019-01-01 0.19.03</td><td>2708</td><td><span style=white-space:pre-wrap>177     </span></td><td> 98</td><td><span style=white-space:pre-wrap>LaSalle St &amp; Washington St         </span></td><td> 49</td><td><span style=white-space:pre-wrap>Dearborn St &amp; Monroe St       </span></td><td>Subscriber</td><td><span style=white-space:pre-wrap>Male  </span></td><td>1984</td></tr>\n",
              "\t<tr><td>21742450</td><td>2019-01-01 0.18.41</td><td>2019-01-01 0.20.21</td><td>2796</td><td><span style=white-space:pre-wrap>100     </span></td><td>211</td><td><span style=white-space:pre-wrap>St. Clair St &amp; Erie St             </span></td><td>142</td><td><span style=white-space:pre-wrap>McClurg Ct &amp; Erie St          </span></td><td>Subscriber</td><td><span style=white-space:pre-wrap>Male  </span></td><td>1990</td></tr>\n",
              "\t<tr><td>21742451</td><td>2019-01-01 0.18.43</td><td>2019-01-01 0.47.30</td><td>6205</td><td>1,727.00</td><td>150</td><td><span style=white-space:pre-wrap>Fort Dearborn Dr &amp; 31st St         </span></td><td>148</td><td><span style=white-space:pre-wrap>State St &amp; 33rd St            </span></td><td>Subscriber</td><td><span style=white-space:pre-wrap>Male  </span></td><td>1995</td></tr>\n",
              "\t<tr><td>21742452</td><td>2019-01-01 0.19.18</td><td>2019-01-01 0.24.54</td><td>3939</td><td><span style=white-space:pre-wrap>336     </span></td><td>268</td><td><span style=white-space:pre-wrap>Lake Shore Dr &amp; North Blvd         </span></td><td>141</td><td><span style=white-space:pre-wrap>Clark St &amp; Lincoln Ave        </span></td><td>Subscriber</td><td><span style=white-space:pre-wrap>Male  </span></td><td>1996</td></tr>\n",
              "\t<tr><td>21742453</td><td>2019-01-01 0.20.34</td><td>2019-01-01 0.35.20</td><td>6243</td><td><span style=white-space:pre-wrap>886     </span></td><td>299</td><td><span style=white-space:pre-wrap>Halsted St &amp; Roscoe St             </span></td><td>295</td><td><span style=white-space:pre-wrap>Broadway &amp; Argyle St          </span></td><td>Subscriber</td><td><span style=white-space:pre-wrap>Male  </span></td><td>1994</td></tr>\n",
              "\t<tr><td>21742454</td><td>2019-01-01 0.21.52</td><td>2019-01-01 0.32.45</td><td>6300</td><td><span style=white-space:pre-wrap>653     </span></td><td>204</td><td><span style=white-space:pre-wrap>Prairie Ave &amp; Garfield Blvd        </span></td><td>420</td><td><span style=white-space:pre-wrap>Ellis Ave &amp; 55th St           </span></td><td>Subscriber</td><td>Female</td><td>1994</td></tr>\n",
              "\t<tr><td>21742455</td><td>2019-01-01 0.23.04</td><td>2019-01-01 0.33.05</td><td>3029</td><td><span style=white-space:pre-wrap>601     </span></td><td> 90</td><td><span style=white-space:pre-wrap>Millennium Park                    </span></td><td>255</td><td><span style=white-space:pre-wrap>Indiana Ave &amp; Roosevelt Rd    </span></td><td>Subscriber</td><td><span style=white-space:pre-wrap>Male  </span></td><td>1986</td></tr>\n",
              "\t<tr><td>21742456</td><td>2019-01-01 0.23.43</td><td>2019-01-01 0.33.05</td><td><span style=white-space:pre-wrap>  84</span></td><td><span style=white-space:pre-wrap>562     </span></td><td> 90</td><td><span style=white-space:pre-wrap>Millennium Park                    </span></td><td>255</td><td><span style=white-space:pre-wrap>Indiana Ave &amp; Roosevelt Rd    </span></td><td><span style=white-space:pre-wrap>Customer  </span></td><td>Female</td><td>1990</td></tr>\n",
              "\t<tr><td>21742457</td><td>2019-01-01 0.23.54</td><td>2019-01-01 0.39.00</td><td>5019</td><td><span style=white-space:pre-wrap>906     </span></td><td>289</td><td><span style=white-space:pre-wrap>Wells St &amp; Concord Ln              </span></td><td>324</td><td><span style=white-space:pre-wrap>Stockton Dr &amp; Wrightwood Ave  </span></td><td>Subscriber</td><td>Female</td><td>1989</td></tr>\n",
              "\t<tr><td>21742458</td><td>2019-01-01 0.24.08</td><td>2019-01-01 0.39.00</td><td>5526</td><td><span style=white-space:pre-wrap>892     </span></td><td>289</td><td><span style=white-space:pre-wrap>Wells St &amp; Concord Ln              </span></td><td>324</td><td><span style=white-space:pre-wrap>Stockton Dr &amp; Wrightwood Ave  </span></td><td>Subscriber</td><td>Female</td><td>1989</td></tr>\n",
              "\t<tr><td>21742459</td><td>2019-01-01 0.24.13</td><td>2019-01-01 0.31.00</td><td>3373</td><td><span style=white-space:pre-wrap>407     </span></td><td>152</td><td><span style=white-space:pre-wrap>Lincoln Ave &amp; Diversey Pkwy        </span></td><td>166</td><td><span style=white-space:pre-wrap>Ashland Ave &amp; Wrightwood Ave  </span></td><td>Subscriber</td><td><span style=white-space:pre-wrap>Male  </span></td><td>1967</td></tr>\n",
              "\t<tr><td>21742460</td><td>2019-01-01 0.24.27</td><td>2019-01-01 0.47.03</td><td>5777</td><td>1,356.00</td><td>268</td><td><span style=white-space:pre-wrap>Lake Shore Dr &amp; North Blvd         </span></td><td>319</td><td>Greenview Ave &amp; Diversey Pkwy </td><td><span style=white-space:pre-wrap>Customer  </span></td><td>Female</td><td>1990</td></tr>\n",
              "\t<tr><td>21742461</td><td>2019-01-01 0.25.28</td><td>2019-01-01 0.27.10</td><td>3940</td><td><span style=white-space:pre-wrap>102     </span></td><td> 35</td><td><span style=white-space:pre-wrap>Streeter Dr &amp; Grand Ave            </span></td><td> 35</td><td><span style=white-space:pre-wrap>Streeter Dr &amp; Grand Ave       </span></td><td>Subscriber</td><td><span style=white-space:pre-wrap>Male  </span></td><td>1985</td></tr>\n",
              "\t<tr><td>21742463</td><td>2019-01-01 0.29.19</td><td>2019-01-01 1.08.12</td><td>3914</td><td>2,333.00</td><td> 35</td><td><span style=white-space:pre-wrap>Streeter Dr &amp; Grand Ave            </span></td><td> 39</td><td><span style=white-space:pre-wrap>Wabash Ave &amp; Adams St         </span></td><td><span style=white-space:pre-wrap>Customer  </span></td><td><span style=white-space:pre-wrap>      </span></td><td><span style=white-space:pre-wrap>  NA</span></td></tr>\n",
              "\t<tr><td>21742464</td><td>2019-01-01 0.29.21</td><td>2019-01-01 0.45.21</td><td> 140</td><td><span style=white-space:pre-wrap>960     </span></td><td> 47</td><td><span style=white-space:pre-wrap>State St &amp; Kinzie St               </span></td><td>111</td><td><span style=white-space:pre-wrap>Sedgwick St &amp; Huron St        </span></td><td>Subscriber</td><td><span style=white-space:pre-wrap>Male  </span></td><td>1957</td></tr>\n",
              "\t<tr><td>21742465</td><td>2019-01-01 0.29.28</td><td>2019-01-01 1.07.49</td><td>3355</td><td>2,301.00</td><td> 35</td><td><span style=white-space:pre-wrap>Streeter Dr &amp; Grand Ave            </span></td><td> 39</td><td><span style=white-space:pre-wrap>Wabash Ave &amp; Adams St         </span></td><td><span style=white-space:pre-wrap>Customer  </span></td><td><span style=white-space:pre-wrap>      </span></td><td><span style=white-space:pre-wrap>  NA</span></td></tr>\n",
              "\t<tr><td>21742466</td><td>2019-01-01 0.29.47</td><td>2019-01-01 0.49.15</td><td>5026</td><td>1,168.00</td><td> 85</td><td><span style=white-space:pre-wrap>Michigan Ave &amp; Oak St              </span></td><td>329</td><td>Lake Shore Dr &amp; Diversey Pkwy </td><td>Subscriber</td><td><span style=white-space:pre-wrap>Male  </span></td><td>1959</td></tr>\n",
              "\t<tr><td>21742467</td><td>2019-01-01 0.30.48</td><td>2019-01-01 0.38.42</td><td>1998</td><td><span style=white-space:pre-wrap>474     </span></td><td>289</td><td><span style=white-space:pre-wrap>Wells St &amp; Concord Ln              </span></td><td>313</td><td>Lakeview Ave &amp; Fullerton Pkwy </td><td>Subscriber</td><td><span style=white-space:pre-wrap>Male  </span></td><td>1994</td></tr>\n",
              "\t<tr><td>21742468</td><td>2019-01-01 0.33.09</td><td>2019-01-01 0.50.25</td><td>2630</td><td>1,036.00</td><td> 13</td><td><span style=white-space:pre-wrap>Wilton Ave &amp; Diversey Pkwy         </span></td><td> 61</td><td><span style=white-space:pre-wrap>Wood St &amp; Milwaukee Ave       </span></td><td>Subscriber</td><td><span style=white-space:pre-wrap>Male  </span></td><td>1991</td></tr>\n",
              "\t<tr><td>21742469</td><td>2019-01-01 0.34.35</td><td>2019-01-01 0.38.25</td><td>3722</td><td><span style=white-space:pre-wrap>230     </span></td><td>520</td><td><span style=white-space:pre-wrap>Greenview Ave &amp; Jarvis Ave         </span></td><td>523</td><td><span style=white-space:pre-wrap>Eastlake Ter &amp; Rogers Ave     </span></td><td>Subscriber</td><td><span style=white-space:pre-wrap>Male  </span></td><td>1961</td></tr>\n",
              "\t<tr><td>21742471</td><td>2019-01-01 0.38.11</td><td>2019-01-01 0.50.38</td><td>1166</td><td><span style=white-space:pre-wrap>747     </span></td><td>256</td><td><span style=white-space:pre-wrap>Broadway &amp; Sheridan Rd             </span></td><td>297</td><td><span style=white-space:pre-wrap>Paulina St &amp; Montrose Ave     </span></td><td>Subscriber</td><td><span style=white-space:pre-wrap>Male  </span></td><td>1968</td></tr>\n",
              "\t<tr><td>21742472</td><td>2019-01-01 0.38.47</td><td>2019-01-01 0.50.38</td><td>1704</td><td><span style=white-space:pre-wrap>711     </span></td><td>256</td><td><span style=white-space:pre-wrap>Broadway &amp; Sheridan Rd             </span></td><td>297</td><td><span style=white-space:pre-wrap>Paulina St &amp; Montrose Ave     </span></td><td>Subscriber</td><td><span style=white-space:pre-wrap>Male  </span></td><td>1964</td></tr>\n",
              "\t<tr><td>21742473</td><td>2019-01-01 0.40.16</td><td>2019-01-01 0.49.29</td><td>1476</td><td><span style=white-space:pre-wrap>553     </span></td><td>254</td><td><span style=white-space:pre-wrap>Pine Grove Ave &amp; Irving Park Rd    </span></td><td>465</td><td><span style=white-space:pre-wrap>Marine Dr &amp; Ainslie St        </span></td><td>Subscriber</td><td><span style=white-space:pre-wrap>Male  </span></td><td>1990</td></tr>\n",
              "\t<tr><td>21742474</td><td>2019-01-01 0.41.46</td><td>2019-01-01 0.50.27</td><td>4614</td><td><span style=white-space:pre-wrap>521     </span></td><td> 66</td><td><span style=white-space:pre-wrap>Clinton St &amp; Lake St               </span></td><td> 52</td><td><span style=white-space:pre-wrap>Michigan Ave &amp; Lake St        </span></td><td>Subscriber</td><td><span style=white-space:pre-wrap>Male  </span></td><td>1994</td></tr>\n",
              "\t<tr><td>⋮</td><td>⋮</td><td>⋮</td><td>⋮</td><td>⋮</td><td>⋮</td><td>⋮</td><td>⋮</td><td>⋮</td><td>⋮</td><td>⋮</td><td>⋮</td></tr>\n",
              "\t<tr><td>22178488</td><td>2019-03-31 22.51.02</td><td>2019-03-31 22.54.00</td><td>4602</td><td>178</td><td>460</td><td><span style=white-space:pre-wrap>Clark St &amp; Bryn Mawr Ave           </span></td><td>461</td><td><span style=white-space:pre-wrap>Broadway &amp; Ridge Ave                </span></td><td>Subscriber</td><td><span style=white-space:pre-wrap>Male  </span></td><td>1986</td></tr>\n",
              "\t<tr><td>22178489</td><td>2019-03-31 22.54.00</td><td>2019-03-31 23.02.49</td><td>4151</td><td>529</td><td> 47</td><td><span style=white-space:pre-wrap>State St &amp; Kinzie St               </span></td><td> 26</td><td><span style=white-space:pre-wrap>McClurg Ct &amp; Illinois St            </span></td><td>Subscriber</td><td><span style=white-space:pre-wrap>Male  </span></td><td>1990</td></tr>\n",
              "\t<tr><td>22178490</td><td>2019-03-31 22.55.28</td><td>2019-03-31 23.02.10</td><td>3833</td><td>402</td><td>108</td><td><span style=white-space:pre-wrap>Halsted St &amp; Polk St               </span></td><td> 19</td><td><span style=white-space:pre-wrap>Loomis St &amp; Taylor St (*)           </span></td><td>Subscriber</td><td><span style=white-space:pre-wrap>Male  </span></td><td>1992</td></tr>\n",
              "\t<tr><td>22178491</td><td>2019-03-31 22.58.00</td><td>2019-03-31 23.06.12</td><td>1374</td><td>492</td><td>108</td><td><span style=white-space:pre-wrap>Halsted St &amp; Polk St               </span></td><td> 41</td><td><span style=white-space:pre-wrap>Federal St &amp; Polk St                </span></td><td>Subscriber</td><td><span style=white-space:pre-wrap>Male  </span></td><td>1992</td></tr>\n",
              "\t<tr><td>22178492</td><td>2019-03-31 22.59.35</td><td>2019-03-31 23.01.38</td><td>3723</td><td>123</td><td> 66</td><td><span style=white-space:pre-wrap>Clinton St &amp; Lake St               </span></td><td> 77</td><td><span style=white-space:pre-wrap>Clinton St &amp; Madison St             </span></td><td>Subscriber</td><td>Female</td><td>1985</td></tr>\n",
              "\t<tr><td>22178493</td><td>2019-03-31 23.00.17</td><td>2019-03-31 23.10.52</td><td>2331</td><td>635</td><td> 51</td><td><span style=white-space:pre-wrap>Clark St &amp; Randolph St             </span></td><td>364</td><td><span style=white-space:pre-wrap>Larrabee St &amp; Oak St                </span></td><td>Subscriber</td><td><span style=white-space:pre-wrap>Male  </span></td><td>1972</td></tr>\n",
              "\t<tr><td>22178494</td><td>2019-03-31 23.00.28</td><td>2019-03-31 23.09.20</td><td>1312</td><td>532</td><td> 98</td><td><span style=white-space:pre-wrap>LaSalle St &amp; Washington St         </span></td><td> 22</td><td><span style=white-space:pre-wrap>May St &amp; Taylor St                  </span></td><td><span style=white-space:pre-wrap>Customer  </span></td><td><span style=white-space:pre-wrap>Male  </span></td><td>1993</td></tr>\n",
              "\t<tr><td>22178495</td><td>2019-03-31 23.00.43</td><td>2019-03-31 23.13.04</td><td>6205</td><td>741</td><td>301</td><td><span style=white-space:pre-wrap>Clark St &amp; Schiller St             </span></td><td>115</td><td><span style=white-space:pre-wrap>Sheffield Ave &amp; Wellington Ave      </span></td><td>Subscriber</td><td><span style=white-space:pre-wrap>Male  </span></td><td>1988</td></tr>\n",
              "\t<tr><td>22178502</td><td>2019-03-31 23.03.01</td><td>2019-03-31 23.15.20</td><td>3360</td><td>739</td><td>295</td><td><span style=white-space:pre-wrap>Broadway &amp; Argyle St               </span></td><td>451</td><td><span style=white-space:pre-wrap>Sheridan Rd &amp; Loyola Ave            </span></td><td>Subscriber</td><td><span style=white-space:pre-wrap>Male  </span></td><td>1992</td></tr>\n",
              "\t<tr><td>22178503</td><td>2019-03-31 23.09.40</td><td>2019-03-31 23.19.30</td><td>6416</td><td>590</td><td>114</td><td><span style=white-space:pre-wrap>Sheffield Ave &amp; Waveland Ave       </span></td><td>330</td><td><span style=white-space:pre-wrap>Lincoln Ave &amp; Addison St            </span></td><td>Subscriber</td><td>Female</td><td>1985</td></tr>\n",
              "\t<tr><td>22178504</td><td>2019-03-31 23.10.19</td><td>2019-03-31 23.21.33</td><td>3767</td><td>674</td><td> 50</td><td><span style=white-space:pre-wrap>Clark St &amp; Ida B Wells Dr          </span></td><td> 50</td><td><span style=white-space:pre-wrap>Clark St &amp; Ida B Wells Dr           </span></td><td>Subscriber</td><td><span style=white-space:pre-wrap>Male  </span></td><td>1957</td></tr>\n",
              "\t<tr><td>22178505</td><td>2019-03-31 23.11.15</td><td>2019-03-31 23.20.27</td><td>1646</td><td>552</td><td>111</td><td><span style=white-space:pre-wrap>Sedgwick St &amp; Huron St             </span></td><td>301</td><td><span style=white-space:pre-wrap>Clark St &amp; Schiller St              </span></td><td>Subscriber</td><td><span style=white-space:pre-wrap>Male  </span></td><td>1994</td></tr>\n",
              "\t<tr><td>22178506</td><td>2019-03-31 23.15.53</td><td>2019-03-31 23.20.27</td><td> 632</td><td>274</td><td> 16</td><td><span style=white-space:pre-wrap>Paulina Ave &amp; North Ave            </span></td><td>158</td><td><span style=white-space:pre-wrap>Milwaukee Ave &amp; Wabansia Ave        </span></td><td>Subscriber</td><td><span style=white-space:pre-wrap>Male  </span></td><td>1991</td></tr>\n",
              "\t<tr><td>22178507</td><td>2019-03-31 23.16.57</td><td>2019-03-31 23.22.42</td><td>1537</td><td>345</td><td>173</td><td>Mies van der Rohe Way &amp; Chicago Ave</td><td>172</td><td><span style=white-space:pre-wrap>Rush St &amp; Cedar St                  </span></td><td>Subscriber</td><td><span style=white-space:pre-wrap>Male  </span></td><td>1980</td></tr>\n",
              "\t<tr><td>22178508</td><td>2019-03-31 23.18.42</td><td>2019-03-31 23.30.40</td><td>1952</td><td>718</td><td>301</td><td><span style=white-space:pre-wrap>Clark St &amp; Schiller St             </span></td><td>210</td><td><span style=white-space:pre-wrap>Ashland Ave &amp; Division St           </span></td><td>Subscriber</td><td><span style=white-space:pre-wrap>Male  </span></td><td>1988</td></tr>\n",
              "\t<tr><td>22178509</td><td>2019-03-31 23.20.36</td><td>2019-03-31 23.28.12</td><td>5331</td><td>456</td><td>115</td><td><span style=white-space:pre-wrap>Sheffield Ave &amp; Wellington Ave     </span></td><td>313</td><td><span style=white-space:pre-wrap>Lakeview Ave &amp; Fullerton Pkwy       </span></td><td>Subscriber</td><td><span style=white-space:pre-wrap>Male  </span></td><td>1987</td></tr>\n",
              "\t<tr><td>22178510</td><td>2019-03-31 23.21.07</td><td>2019-03-31 23.25.12</td><td><span style=white-space:pre-wrap>  67</span></td><td>245</td><td>325</td><td><span style=white-space:pre-wrap>Clark St &amp; Winnemac Ave            </span></td><td>464</td><td><span style=white-space:pre-wrap>Damen Ave &amp; Foster Ave              </span></td><td>Subscriber</td><td><span style=white-space:pre-wrap>Male  </span></td><td>1983</td></tr>\n",
              "\t<tr><td>22178515</td><td>2019-03-31 23.26.00</td><td>2019-03-31 23.37.24</td><td>2965</td><td>684</td><td>403</td><td><span style=white-space:pre-wrap>Wentworth Ave &amp; 33rd St            </span></td><td>263</td><td><span style=white-space:pre-wrap>Rhodes Ave &amp; 32nd St                </span></td><td>Subscriber</td><td><span style=white-space:pre-wrap>Male  </span></td><td>1984</td></tr>\n",
              "\t<tr><td>22178516</td><td>2019-03-31 23.31.30</td><td>2019-03-31 23.35.29</td><td>5747</td><td>239</td><td>309</td><td><span style=white-space:pre-wrap>Leavitt St &amp; Armitage Ave          </span></td><td>219</td><td><span style=white-space:pre-wrap>Damen Ave &amp; Cortland St             </span></td><td>Subscriber</td><td><span style=white-space:pre-wrap>Male  </span></td><td>1970</td></tr>\n",
              "\t<tr><td>22178517</td><td>2019-03-31 23.32.54</td><td>2019-03-31 23.37.50</td><td>2846</td><td>296</td><td>181</td><td><span style=white-space:pre-wrap>LaSalle St &amp; Illinois St           </span></td><td> 24</td><td><span style=white-space:pre-wrap>Fairbanks Ct &amp; Grand Ave            </span></td><td><span style=white-space:pre-wrap>Customer  </span></td><td><span style=white-space:pre-wrap>      </span></td><td><span style=white-space:pre-wrap>  NA</span></td></tr>\n",
              "\t<tr><td>22178518</td><td>2019-03-31 23.33.02</td><td>2019-03-31 23.43.15</td><td>2772</td><td>613</td><td>210</td><td><span style=white-space:pre-wrap>Ashland Ave &amp; Division St          </span></td><td>210</td><td><span style=white-space:pre-wrap>Ashland Ave &amp; Division St           </span></td><td>Subscriber</td><td><span style=white-space:pre-wrap>Male  </span></td><td>1972</td></tr>\n",
              "\t<tr><td>22178519</td><td>2019-03-31 23.33.14</td><td>2019-03-31 23.37.40</td><td>4304</td><td>266</td><td>181</td><td><span style=white-space:pre-wrap>LaSalle St &amp; Illinois St           </span></td><td> 24</td><td><span style=white-space:pre-wrap>Fairbanks Ct &amp; Grand Ave            </span></td><td><span style=white-space:pre-wrap>Customer  </span></td><td><span style=white-space:pre-wrap>      </span></td><td><span style=white-space:pre-wrap>  NA</span></td></tr>\n",
              "\t<tr><td>22178520</td><td>2019-03-31 23.34.08</td><td>2019-03-31 23.38.07</td><td> 667</td><td>239</td><td>199</td><td><span style=white-space:pre-wrap>Wabash Ave &amp; Grand Ave             </span></td><td> 26</td><td><span style=white-space:pre-wrap>McClurg Ct &amp; Illinois St            </span></td><td>Subscriber</td><td>Female</td><td>1984</td></tr>\n",
              "\t<tr><td>22178521</td><td>2019-03-31 23.39.48</td><td>2019-03-31 23.41.41</td><td>4814</td><td>113</td><td>198</td><td><span style=white-space:pre-wrap>Green St &amp; Madison St              </span></td><td>233</td><td><span style=white-space:pre-wrap>Sangamon St &amp; Washington Blvd (*)   </span></td><td>Subscriber</td><td><span style=white-space:pre-wrap>Male  </span></td><td>1971</td></tr>\n",
              "\t<tr><td>22178522</td><td>2019-03-31 23.47.05</td><td>2019-03-31 23.51.35</td><td>3873</td><td>270</td><td> 69</td><td><span style=white-space:pre-wrap>Damen Ave &amp; Pierce Ave             </span></td><td>183</td><td>Damen Ave &amp; Thomas St (Augusta Blvd)</td><td>Subscriber</td><td><span style=white-space:pre-wrap>Male  </span></td><td>1985</td></tr>\n",
              "\t<tr><td>22178524</td><td>2019-03-31 23.51.32</td><td>2019-04-01 0.04.09 </td><td>1501</td><td>757</td><td> 38</td><td><span style=white-space:pre-wrap>Clark St &amp; Lake St                 </span></td><td> 29</td><td><span style=white-space:pre-wrap>Noble St &amp; Milwaukee Ave            </span></td><td>Subscriber</td><td><span style=white-space:pre-wrap>Male  </span></td><td>1993</td></tr>\n",
              "\t<tr><td>22178525</td><td>2019-03-31 23.52.37</td><td>2019-03-31 23.58.09</td><td>3270</td><td>332</td><td>129</td><td><span style=white-space:pre-wrap>Blue Island Ave &amp; 18th St          </span></td><td>202</td><td><span style=white-space:pre-wrap>Halsted St &amp; 18th St                </span></td><td>Subscriber</td><td><span style=white-space:pre-wrap>Male  </span></td><td>1992</td></tr>\n",
              "\t<tr><td>22178526</td><td>2019-03-31 23.52.38</td><td>2019-04-01 0.06.44 </td><td>3584</td><td>846</td><td>283</td><td><span style=white-space:pre-wrap>LaSalle St &amp; Jackson Blvd          </span></td><td>273</td><td><span style=white-space:pre-wrap>Michigan Ave &amp; 18th St              </span></td><td>Subscriber</td><td><span style=white-space:pre-wrap>Male  </span></td><td>1984</td></tr>\n",
              "\t<tr><td>22178527</td><td>2019-03-31 23.53.08</td><td>2019-03-31 23.56.06</td><td>4384</td><td>178</td><td>321</td><td><span style=white-space:pre-wrap>Wabash Ave &amp; 9th St                </span></td><td> 39</td><td><span style=white-space:pre-wrap>Wabash Ave &amp; Adams St               </span></td><td>Subscriber</td><td><span style=white-space:pre-wrap>Male  </span></td><td>1969</td></tr>\n",
              "\t<tr><td>22178528</td><td>2019-03-31 23.53.48</td><td>2019-04-01 0.01.16 </td><td>5589</td><td>448</td><td>248</td><td><span style=white-space:pre-wrap>Woodlawn Ave &amp; 55th St             </span></td><td>247</td><td><span style=white-space:pre-wrap>Shore Dr &amp; 55th St                  </span></td><td>Subscriber</td><td><span style=white-space:pre-wrap>Male  </span></td><td>1998</td></tr>\n",
              "</tbody>\n",
              "</table>\n"
            ],
            "text/markdown": "\nA data.frame: 365069 × 12\n\n| ride_id &lt;int&gt; | started_at &lt;chr&gt; | ended_at &lt;chr&gt; | rideable_type &lt;int&gt; | tripduration &lt;chr&gt; | start_station_id &lt;int&gt; | start_station_name &lt;chr&gt; | end_station_id &lt;int&gt; | end_station_name &lt;chr&gt; | member_casual &lt;chr&gt; | gender &lt;chr&gt; | birthyear &lt;int&gt; |\n|---|---|---|---|---|---|---|---|---|---|---|---|\n| 21742443 | 2019-01-01 0.04.37 | 2019-01-01 0.11.07 | 2167 | 390      | 199 | Wabash Ave &amp; Grand Ave              |  84 | Milwaukee Ave &amp; Grand Ave      | Subscriber | Male   | 1989 |\n| 21742444 | 2019-01-01 0.08.13 | 2019-01-01 0.15.34 | 4386 | 441      |  44 | State St &amp; Randolph St              | 624 | Dearborn St &amp; Van Buren St (*) | Subscriber | Female | 1990 |\n| 21742445 | 2019-01-01 0.13.23 | 2019-01-01 0.27.12 | 1524 | 829      |  15 | Racine Ave &amp; 18th St                | 644 | Western Ave &amp; Fillmore St (*)  | Subscriber | Female | 1994 |\n| 21742446 | 2019-01-01 0.13.45 | 2019-01-01 0.43.28 |  252 | 1,783.00 | 123 | California Ave &amp; Milwaukee Ave      | 176 | Clark St &amp; Elm St              | Subscriber | Male   | 1993 |\n| 21742447 | 2019-01-01 0.14.52 | 2019-01-01 0.20.56 | 1170 | 364      | 173 | Mies van der Rohe Way &amp; Chicago Ave |  35 | Streeter Dr &amp; Grand Ave        | Subscriber | Male   | 1994 |\n| 21742448 | 2019-01-01 0.15.33 | 2019-01-01 0.19.09 | 2437 | 216      |  98 | LaSalle St &amp; Washington St          |  49 | Dearborn St &amp; Monroe St        | Subscriber | Female | 1983 |\n| 21742449 | 2019-01-01 0.16.06 | 2019-01-01 0.19.03 | 2708 | 177      |  98 | LaSalle St &amp; Washington St          |  49 | Dearborn St &amp; Monroe St        | Subscriber | Male   | 1984 |\n| 21742450 | 2019-01-01 0.18.41 | 2019-01-01 0.20.21 | 2796 | 100      | 211 | St. Clair St &amp; Erie St              | 142 | McClurg Ct &amp; Erie St           | Subscriber | Male   | 1990 |\n| 21742451 | 2019-01-01 0.18.43 | 2019-01-01 0.47.30 | 6205 | 1,727.00 | 150 | Fort Dearborn Dr &amp; 31st St          | 148 | State St &amp; 33rd St             | Subscriber | Male   | 1995 |\n| 21742452 | 2019-01-01 0.19.18 | 2019-01-01 0.24.54 | 3939 | 336      | 268 | Lake Shore Dr &amp; North Blvd          | 141 | Clark St &amp; Lincoln Ave         | Subscriber | Male   | 1996 |\n| 21742453 | 2019-01-01 0.20.34 | 2019-01-01 0.35.20 | 6243 | 886      | 299 | Halsted St &amp; Roscoe St              | 295 | Broadway &amp; Argyle St           | Subscriber | Male   | 1994 |\n| 21742454 | 2019-01-01 0.21.52 | 2019-01-01 0.32.45 | 6300 | 653      | 204 | Prairie Ave &amp; Garfield Blvd         | 420 | Ellis Ave &amp; 55th St            | Subscriber | Female | 1994 |\n| 21742455 | 2019-01-01 0.23.04 | 2019-01-01 0.33.05 | 3029 | 601      |  90 | Millennium Park                     | 255 | Indiana Ave &amp; Roosevelt Rd     | Subscriber | Male   | 1986 |\n| 21742456 | 2019-01-01 0.23.43 | 2019-01-01 0.33.05 |   84 | 562      |  90 | Millennium Park                     | 255 | Indiana Ave &amp; Roosevelt Rd     | Customer   | Female | 1990 |\n| 21742457 | 2019-01-01 0.23.54 | 2019-01-01 0.39.00 | 5019 | 906      | 289 | Wells St &amp; Concord Ln               | 324 | Stockton Dr &amp; Wrightwood Ave   | Subscriber | Female | 1989 |\n| 21742458 | 2019-01-01 0.24.08 | 2019-01-01 0.39.00 | 5526 | 892      | 289 | Wells St &amp; Concord Ln               | 324 | Stockton Dr &amp; Wrightwood Ave   | Subscriber | Female | 1989 |\n| 21742459 | 2019-01-01 0.24.13 | 2019-01-01 0.31.00 | 3373 | 407      | 152 | Lincoln Ave &amp; Diversey Pkwy         | 166 | Ashland Ave &amp; Wrightwood Ave   | Subscriber | Male   | 1967 |\n| 21742460 | 2019-01-01 0.24.27 | 2019-01-01 0.47.03 | 5777 | 1,356.00 | 268 | Lake Shore Dr &amp; North Blvd          | 319 | Greenview Ave &amp; Diversey Pkwy  | Customer   | Female | 1990 |\n| 21742461 | 2019-01-01 0.25.28 | 2019-01-01 0.27.10 | 3940 | 102      |  35 | Streeter Dr &amp; Grand Ave             |  35 | Streeter Dr &amp; Grand Ave        | Subscriber | Male   | 1985 |\n| 21742463 | 2019-01-01 0.29.19 | 2019-01-01 1.08.12 | 3914 | 2,333.00 |  35 | Streeter Dr &amp; Grand Ave             |  39 | Wabash Ave &amp; Adams St          | Customer   | <!----> |   NA |\n| 21742464 | 2019-01-01 0.29.21 | 2019-01-01 0.45.21 |  140 | 960      |  47 | State St &amp; Kinzie St                | 111 | Sedgwick St &amp; Huron St         | Subscriber | Male   | 1957 |\n| 21742465 | 2019-01-01 0.29.28 | 2019-01-01 1.07.49 | 3355 | 2,301.00 |  35 | Streeter Dr &amp; Grand Ave             |  39 | Wabash Ave &amp; Adams St          | Customer   | <!----> |   NA |\n| 21742466 | 2019-01-01 0.29.47 | 2019-01-01 0.49.15 | 5026 | 1,168.00 |  85 | Michigan Ave &amp; Oak St               | 329 | Lake Shore Dr &amp; Diversey Pkwy  | Subscriber | Male   | 1959 |\n| 21742467 | 2019-01-01 0.30.48 | 2019-01-01 0.38.42 | 1998 | 474      | 289 | Wells St &amp; Concord Ln               | 313 | Lakeview Ave &amp; Fullerton Pkwy  | Subscriber | Male   | 1994 |\n| 21742468 | 2019-01-01 0.33.09 | 2019-01-01 0.50.25 | 2630 | 1,036.00 |  13 | Wilton Ave &amp; Diversey Pkwy          |  61 | Wood St &amp; Milwaukee Ave        | Subscriber | Male   | 1991 |\n| 21742469 | 2019-01-01 0.34.35 | 2019-01-01 0.38.25 | 3722 | 230      | 520 | Greenview Ave &amp; Jarvis Ave          | 523 | Eastlake Ter &amp; Rogers Ave      | Subscriber | Male   | 1961 |\n| 21742471 | 2019-01-01 0.38.11 | 2019-01-01 0.50.38 | 1166 | 747      | 256 | Broadway &amp; Sheridan Rd              | 297 | Paulina St &amp; Montrose Ave      | Subscriber | Male   | 1968 |\n| 21742472 | 2019-01-01 0.38.47 | 2019-01-01 0.50.38 | 1704 | 711      | 256 | Broadway &amp; Sheridan Rd              | 297 | Paulina St &amp; Montrose Ave      | Subscriber | Male   | 1964 |\n| 21742473 | 2019-01-01 0.40.16 | 2019-01-01 0.49.29 | 1476 | 553      | 254 | Pine Grove Ave &amp; Irving Park Rd     | 465 | Marine Dr &amp; Ainslie St         | Subscriber | Male   | 1990 |\n| 21742474 | 2019-01-01 0.41.46 | 2019-01-01 0.50.27 | 4614 | 521      |  66 | Clinton St &amp; Lake St                |  52 | Michigan Ave &amp; Lake St         | Subscriber | Male   | 1994 |\n| ⋮ | ⋮ | ⋮ | ⋮ | ⋮ | ⋮ | ⋮ | ⋮ | ⋮ | ⋮ | ⋮ | ⋮ |\n| 22178488 | 2019-03-31 22.51.02 | 2019-03-31 22.54.00 | 4602 | 178 | 460 | Clark St &amp; Bryn Mawr Ave            | 461 | Broadway &amp; Ridge Ave                 | Subscriber | Male   | 1986 |\n| 22178489 | 2019-03-31 22.54.00 | 2019-03-31 23.02.49 | 4151 | 529 |  47 | State St &amp; Kinzie St                |  26 | McClurg Ct &amp; Illinois St             | Subscriber | Male   | 1990 |\n| 22178490 | 2019-03-31 22.55.28 | 2019-03-31 23.02.10 | 3833 | 402 | 108 | Halsted St &amp; Polk St                |  19 | Loomis St &amp; Taylor St (*)            | Subscriber | Male   | 1992 |\n| 22178491 | 2019-03-31 22.58.00 | 2019-03-31 23.06.12 | 1374 | 492 | 108 | Halsted St &amp; Polk St                |  41 | Federal St &amp; Polk St                 | Subscriber | Male   | 1992 |\n| 22178492 | 2019-03-31 22.59.35 | 2019-03-31 23.01.38 | 3723 | 123 |  66 | Clinton St &amp; Lake St                |  77 | Clinton St &amp; Madison St              | Subscriber | Female | 1985 |\n| 22178493 | 2019-03-31 23.00.17 | 2019-03-31 23.10.52 | 2331 | 635 |  51 | Clark St &amp; Randolph St              | 364 | Larrabee St &amp; Oak St                 | Subscriber | Male   | 1972 |\n| 22178494 | 2019-03-31 23.00.28 | 2019-03-31 23.09.20 | 1312 | 532 |  98 | LaSalle St &amp; Washington St          |  22 | May St &amp; Taylor St                   | Customer   | Male   | 1993 |\n| 22178495 | 2019-03-31 23.00.43 | 2019-03-31 23.13.04 | 6205 | 741 | 301 | Clark St &amp; Schiller St              | 115 | Sheffield Ave &amp; Wellington Ave       | Subscriber | Male   | 1988 |\n| 22178502 | 2019-03-31 23.03.01 | 2019-03-31 23.15.20 | 3360 | 739 | 295 | Broadway &amp; Argyle St                | 451 | Sheridan Rd &amp; Loyola Ave             | Subscriber | Male   | 1992 |\n| 22178503 | 2019-03-31 23.09.40 | 2019-03-31 23.19.30 | 6416 | 590 | 114 | Sheffield Ave &amp; Waveland Ave        | 330 | Lincoln Ave &amp; Addison St             | Subscriber | Female | 1985 |\n| 22178504 | 2019-03-31 23.10.19 | 2019-03-31 23.21.33 | 3767 | 674 |  50 | Clark St &amp; Ida B Wells Dr           |  50 | Clark St &amp; Ida B Wells Dr            | Subscriber | Male   | 1957 |\n| 22178505 | 2019-03-31 23.11.15 | 2019-03-31 23.20.27 | 1646 | 552 | 111 | Sedgwick St &amp; Huron St              | 301 | Clark St &amp; Schiller St               | Subscriber | Male   | 1994 |\n| 22178506 | 2019-03-31 23.15.53 | 2019-03-31 23.20.27 |  632 | 274 |  16 | Paulina Ave &amp; North Ave             | 158 | Milwaukee Ave &amp; Wabansia Ave         | Subscriber | Male   | 1991 |\n| 22178507 | 2019-03-31 23.16.57 | 2019-03-31 23.22.42 | 1537 | 345 | 173 | Mies van der Rohe Way &amp; Chicago Ave | 172 | Rush St &amp; Cedar St                   | Subscriber | Male   | 1980 |\n| 22178508 | 2019-03-31 23.18.42 | 2019-03-31 23.30.40 | 1952 | 718 | 301 | Clark St &amp; Schiller St              | 210 | Ashland Ave &amp; Division St            | Subscriber | Male   | 1988 |\n| 22178509 | 2019-03-31 23.20.36 | 2019-03-31 23.28.12 | 5331 | 456 | 115 | Sheffield Ave &amp; Wellington Ave      | 313 | Lakeview Ave &amp; Fullerton Pkwy        | Subscriber | Male   | 1987 |\n| 22178510 | 2019-03-31 23.21.07 | 2019-03-31 23.25.12 |   67 | 245 | 325 | Clark St &amp; Winnemac Ave             | 464 | Damen Ave &amp; Foster Ave               | Subscriber | Male   | 1983 |\n| 22178515 | 2019-03-31 23.26.00 | 2019-03-31 23.37.24 | 2965 | 684 | 403 | Wentworth Ave &amp; 33rd St             | 263 | Rhodes Ave &amp; 32nd St                 | Subscriber | Male   | 1984 |\n| 22178516 | 2019-03-31 23.31.30 | 2019-03-31 23.35.29 | 5747 | 239 | 309 | Leavitt St &amp; Armitage Ave           | 219 | Damen Ave &amp; Cortland St              | Subscriber | Male   | 1970 |\n| 22178517 | 2019-03-31 23.32.54 | 2019-03-31 23.37.50 | 2846 | 296 | 181 | LaSalle St &amp; Illinois St            |  24 | Fairbanks Ct &amp; Grand Ave             | Customer   | <!----> |   NA |\n| 22178518 | 2019-03-31 23.33.02 | 2019-03-31 23.43.15 | 2772 | 613 | 210 | Ashland Ave &amp; Division St           | 210 | Ashland Ave &amp; Division St            | Subscriber | Male   | 1972 |\n| 22178519 | 2019-03-31 23.33.14 | 2019-03-31 23.37.40 | 4304 | 266 | 181 | LaSalle St &amp; Illinois St            |  24 | Fairbanks Ct &amp; Grand Ave             | Customer   | <!----> |   NA |\n| 22178520 | 2019-03-31 23.34.08 | 2019-03-31 23.38.07 |  667 | 239 | 199 | Wabash Ave &amp; Grand Ave              |  26 | McClurg Ct &amp; Illinois St             | Subscriber | Female | 1984 |\n| 22178521 | 2019-03-31 23.39.48 | 2019-03-31 23.41.41 | 4814 | 113 | 198 | Green St &amp; Madison St               | 233 | Sangamon St &amp; Washington Blvd (*)    | Subscriber | Male   | 1971 |\n| 22178522 | 2019-03-31 23.47.05 | 2019-03-31 23.51.35 | 3873 | 270 |  69 | Damen Ave &amp; Pierce Ave              | 183 | Damen Ave &amp; Thomas St (Augusta Blvd) | Subscriber | Male   | 1985 |\n| 22178524 | 2019-03-31 23.51.32 | 2019-04-01 0.04.09  | 1501 | 757 |  38 | Clark St &amp; Lake St                  |  29 | Noble St &amp; Milwaukee Ave             | Subscriber | Male   | 1993 |\n| 22178525 | 2019-03-31 23.52.37 | 2019-03-31 23.58.09 | 3270 | 332 | 129 | Blue Island Ave &amp; 18th St           | 202 | Halsted St &amp; 18th St                 | Subscriber | Male   | 1992 |\n| 22178526 | 2019-03-31 23.52.38 | 2019-04-01 0.06.44  | 3584 | 846 | 283 | LaSalle St &amp; Jackson Blvd           | 273 | Michigan Ave &amp; 18th St               | Subscriber | Male   | 1984 |\n| 22178527 | 2019-03-31 23.53.08 | 2019-03-31 23.56.06 | 4384 | 178 | 321 | Wabash Ave &amp; 9th St                 |  39 | Wabash Ave &amp; Adams St                | Subscriber | Male   | 1969 |\n| 22178528 | 2019-03-31 23.53.48 | 2019-04-01 0.01.16  | 5589 | 448 | 248 | Woodlawn Ave &amp; 55th St              | 247 | Shore Dr &amp; 55th St                   | Subscriber | Male   | 1998 |\n\n",
            "text/latex": "A data.frame: 365069 × 12\n\\begin{tabular}{llllllllllll}\n ride\\_id & started\\_at & ended\\_at & rideable\\_type & tripduration & start\\_station\\_id & start\\_station\\_name & end\\_station\\_id & end\\_station\\_name & member\\_casual & gender & birthyear\\\\\n <int> & <chr> & <chr> & <int> & <chr> & <int> & <chr> & <int> & <chr> & <chr> & <chr> & <int>\\\\\n\\hline\n\t 21742443 & 2019-01-01 0.04.37 & 2019-01-01 0.11.07 & 2167 & 390      & 199 & Wabash Ave \\& Grand Ave              &  84 & Milwaukee Ave \\& Grand Ave      & Subscriber & Male   & 1989\\\\\n\t 21742444 & 2019-01-01 0.08.13 & 2019-01-01 0.15.34 & 4386 & 441      &  44 & State St \\& Randolph St              & 624 & Dearborn St \\& Van Buren St (*) & Subscriber & Female & 1990\\\\\n\t 21742445 & 2019-01-01 0.13.23 & 2019-01-01 0.27.12 & 1524 & 829      &  15 & Racine Ave \\& 18th St                & 644 & Western Ave \\& Fillmore St (*)  & Subscriber & Female & 1994\\\\\n\t 21742446 & 2019-01-01 0.13.45 & 2019-01-01 0.43.28 &  252 & 1,783.00 & 123 & California Ave \\& Milwaukee Ave      & 176 & Clark St \\& Elm St              & Subscriber & Male   & 1993\\\\\n\t 21742447 & 2019-01-01 0.14.52 & 2019-01-01 0.20.56 & 1170 & 364      & 173 & Mies van der Rohe Way \\& Chicago Ave &  35 & Streeter Dr \\& Grand Ave        & Subscriber & Male   & 1994\\\\\n\t 21742448 & 2019-01-01 0.15.33 & 2019-01-01 0.19.09 & 2437 & 216      &  98 & LaSalle St \\& Washington St          &  49 & Dearborn St \\& Monroe St        & Subscriber & Female & 1983\\\\\n\t 21742449 & 2019-01-01 0.16.06 & 2019-01-01 0.19.03 & 2708 & 177      &  98 & LaSalle St \\& Washington St          &  49 & Dearborn St \\& Monroe St        & Subscriber & Male   & 1984\\\\\n\t 21742450 & 2019-01-01 0.18.41 & 2019-01-01 0.20.21 & 2796 & 100      & 211 & St. Clair St \\& Erie St              & 142 & McClurg Ct \\& Erie St           & Subscriber & Male   & 1990\\\\\n\t 21742451 & 2019-01-01 0.18.43 & 2019-01-01 0.47.30 & 6205 & 1,727.00 & 150 & Fort Dearborn Dr \\& 31st St          & 148 & State St \\& 33rd St             & Subscriber & Male   & 1995\\\\\n\t 21742452 & 2019-01-01 0.19.18 & 2019-01-01 0.24.54 & 3939 & 336      & 268 & Lake Shore Dr \\& North Blvd          & 141 & Clark St \\& Lincoln Ave         & Subscriber & Male   & 1996\\\\\n\t 21742453 & 2019-01-01 0.20.34 & 2019-01-01 0.35.20 & 6243 & 886      & 299 & Halsted St \\& Roscoe St              & 295 & Broadway \\& Argyle St           & Subscriber & Male   & 1994\\\\\n\t 21742454 & 2019-01-01 0.21.52 & 2019-01-01 0.32.45 & 6300 & 653      & 204 & Prairie Ave \\& Garfield Blvd         & 420 & Ellis Ave \\& 55th St            & Subscriber & Female & 1994\\\\\n\t 21742455 & 2019-01-01 0.23.04 & 2019-01-01 0.33.05 & 3029 & 601      &  90 & Millennium Park                     & 255 & Indiana Ave \\& Roosevelt Rd     & Subscriber & Male   & 1986\\\\\n\t 21742456 & 2019-01-01 0.23.43 & 2019-01-01 0.33.05 &   84 & 562      &  90 & Millennium Park                     & 255 & Indiana Ave \\& Roosevelt Rd     & Customer   & Female & 1990\\\\\n\t 21742457 & 2019-01-01 0.23.54 & 2019-01-01 0.39.00 & 5019 & 906      & 289 & Wells St \\& Concord Ln               & 324 & Stockton Dr \\& Wrightwood Ave   & Subscriber & Female & 1989\\\\\n\t 21742458 & 2019-01-01 0.24.08 & 2019-01-01 0.39.00 & 5526 & 892      & 289 & Wells St \\& Concord Ln               & 324 & Stockton Dr \\& Wrightwood Ave   & Subscriber & Female & 1989\\\\\n\t 21742459 & 2019-01-01 0.24.13 & 2019-01-01 0.31.00 & 3373 & 407      & 152 & Lincoln Ave \\& Diversey Pkwy         & 166 & Ashland Ave \\& Wrightwood Ave   & Subscriber & Male   & 1967\\\\\n\t 21742460 & 2019-01-01 0.24.27 & 2019-01-01 0.47.03 & 5777 & 1,356.00 & 268 & Lake Shore Dr \\& North Blvd          & 319 & Greenview Ave \\& Diversey Pkwy  & Customer   & Female & 1990\\\\\n\t 21742461 & 2019-01-01 0.25.28 & 2019-01-01 0.27.10 & 3940 & 102      &  35 & Streeter Dr \\& Grand Ave             &  35 & Streeter Dr \\& Grand Ave        & Subscriber & Male   & 1985\\\\\n\t 21742463 & 2019-01-01 0.29.19 & 2019-01-01 1.08.12 & 3914 & 2,333.00 &  35 & Streeter Dr \\& Grand Ave             &  39 & Wabash Ave \\& Adams St          & Customer   &        &   NA\\\\\n\t 21742464 & 2019-01-01 0.29.21 & 2019-01-01 0.45.21 &  140 & 960      &  47 & State St \\& Kinzie St                & 111 & Sedgwick St \\& Huron St         & Subscriber & Male   & 1957\\\\\n\t 21742465 & 2019-01-01 0.29.28 & 2019-01-01 1.07.49 & 3355 & 2,301.00 &  35 & Streeter Dr \\& Grand Ave             &  39 & Wabash Ave \\& Adams St          & Customer   &        &   NA\\\\\n\t 21742466 & 2019-01-01 0.29.47 & 2019-01-01 0.49.15 & 5026 & 1,168.00 &  85 & Michigan Ave \\& Oak St               & 329 & Lake Shore Dr \\& Diversey Pkwy  & Subscriber & Male   & 1959\\\\\n\t 21742467 & 2019-01-01 0.30.48 & 2019-01-01 0.38.42 & 1998 & 474      & 289 & Wells St \\& Concord Ln               & 313 & Lakeview Ave \\& Fullerton Pkwy  & Subscriber & Male   & 1994\\\\\n\t 21742468 & 2019-01-01 0.33.09 & 2019-01-01 0.50.25 & 2630 & 1,036.00 &  13 & Wilton Ave \\& Diversey Pkwy          &  61 & Wood St \\& Milwaukee Ave        & Subscriber & Male   & 1991\\\\\n\t 21742469 & 2019-01-01 0.34.35 & 2019-01-01 0.38.25 & 3722 & 230      & 520 & Greenview Ave \\& Jarvis Ave          & 523 & Eastlake Ter \\& Rogers Ave      & Subscriber & Male   & 1961\\\\\n\t 21742471 & 2019-01-01 0.38.11 & 2019-01-01 0.50.38 & 1166 & 747      & 256 & Broadway \\& Sheridan Rd              & 297 & Paulina St \\& Montrose Ave      & Subscriber & Male   & 1968\\\\\n\t 21742472 & 2019-01-01 0.38.47 & 2019-01-01 0.50.38 & 1704 & 711      & 256 & Broadway \\& Sheridan Rd              & 297 & Paulina St \\& Montrose Ave      & Subscriber & Male   & 1964\\\\\n\t 21742473 & 2019-01-01 0.40.16 & 2019-01-01 0.49.29 & 1476 & 553      & 254 & Pine Grove Ave \\& Irving Park Rd     & 465 & Marine Dr \\& Ainslie St         & Subscriber & Male   & 1990\\\\\n\t 21742474 & 2019-01-01 0.41.46 & 2019-01-01 0.50.27 & 4614 & 521      &  66 & Clinton St \\& Lake St                &  52 & Michigan Ave \\& Lake St         & Subscriber & Male   & 1994\\\\\n\t ⋮ & ⋮ & ⋮ & ⋮ & ⋮ & ⋮ & ⋮ & ⋮ & ⋮ & ⋮ & ⋮ & ⋮\\\\\n\t 22178488 & 2019-03-31 22.51.02 & 2019-03-31 22.54.00 & 4602 & 178 & 460 & Clark St \\& Bryn Mawr Ave            & 461 & Broadway \\& Ridge Ave                 & Subscriber & Male   & 1986\\\\\n\t 22178489 & 2019-03-31 22.54.00 & 2019-03-31 23.02.49 & 4151 & 529 &  47 & State St \\& Kinzie St                &  26 & McClurg Ct \\& Illinois St             & Subscriber & Male   & 1990\\\\\n\t 22178490 & 2019-03-31 22.55.28 & 2019-03-31 23.02.10 & 3833 & 402 & 108 & Halsted St \\& Polk St                &  19 & Loomis St \\& Taylor St (*)            & Subscriber & Male   & 1992\\\\\n\t 22178491 & 2019-03-31 22.58.00 & 2019-03-31 23.06.12 & 1374 & 492 & 108 & Halsted St \\& Polk St                &  41 & Federal St \\& Polk St                 & Subscriber & Male   & 1992\\\\\n\t 22178492 & 2019-03-31 22.59.35 & 2019-03-31 23.01.38 & 3723 & 123 &  66 & Clinton St \\& Lake St                &  77 & Clinton St \\& Madison St              & Subscriber & Female & 1985\\\\\n\t 22178493 & 2019-03-31 23.00.17 & 2019-03-31 23.10.52 & 2331 & 635 &  51 & Clark St \\& Randolph St              & 364 & Larrabee St \\& Oak St                 & Subscriber & Male   & 1972\\\\\n\t 22178494 & 2019-03-31 23.00.28 & 2019-03-31 23.09.20 & 1312 & 532 &  98 & LaSalle St \\& Washington St          &  22 & May St \\& Taylor St                   & Customer   & Male   & 1993\\\\\n\t 22178495 & 2019-03-31 23.00.43 & 2019-03-31 23.13.04 & 6205 & 741 & 301 & Clark St \\& Schiller St              & 115 & Sheffield Ave \\& Wellington Ave       & Subscriber & Male   & 1988\\\\\n\t 22178502 & 2019-03-31 23.03.01 & 2019-03-31 23.15.20 & 3360 & 739 & 295 & Broadway \\& Argyle St                & 451 & Sheridan Rd \\& Loyola Ave             & Subscriber & Male   & 1992\\\\\n\t 22178503 & 2019-03-31 23.09.40 & 2019-03-31 23.19.30 & 6416 & 590 & 114 & Sheffield Ave \\& Waveland Ave        & 330 & Lincoln Ave \\& Addison St             & Subscriber & Female & 1985\\\\\n\t 22178504 & 2019-03-31 23.10.19 & 2019-03-31 23.21.33 & 3767 & 674 &  50 & Clark St \\& Ida B Wells Dr           &  50 & Clark St \\& Ida B Wells Dr            & Subscriber & Male   & 1957\\\\\n\t 22178505 & 2019-03-31 23.11.15 & 2019-03-31 23.20.27 & 1646 & 552 & 111 & Sedgwick St \\& Huron St              & 301 & Clark St \\& Schiller St               & Subscriber & Male   & 1994\\\\\n\t 22178506 & 2019-03-31 23.15.53 & 2019-03-31 23.20.27 &  632 & 274 &  16 & Paulina Ave \\& North Ave             & 158 & Milwaukee Ave \\& Wabansia Ave         & Subscriber & Male   & 1991\\\\\n\t 22178507 & 2019-03-31 23.16.57 & 2019-03-31 23.22.42 & 1537 & 345 & 173 & Mies van der Rohe Way \\& Chicago Ave & 172 & Rush St \\& Cedar St                   & Subscriber & Male   & 1980\\\\\n\t 22178508 & 2019-03-31 23.18.42 & 2019-03-31 23.30.40 & 1952 & 718 & 301 & Clark St \\& Schiller St              & 210 & Ashland Ave \\& Division St            & Subscriber & Male   & 1988\\\\\n\t 22178509 & 2019-03-31 23.20.36 & 2019-03-31 23.28.12 & 5331 & 456 & 115 & Sheffield Ave \\& Wellington Ave      & 313 & Lakeview Ave \\& Fullerton Pkwy        & Subscriber & Male   & 1987\\\\\n\t 22178510 & 2019-03-31 23.21.07 & 2019-03-31 23.25.12 &   67 & 245 & 325 & Clark St \\& Winnemac Ave             & 464 & Damen Ave \\& Foster Ave               & Subscriber & Male   & 1983\\\\\n\t 22178515 & 2019-03-31 23.26.00 & 2019-03-31 23.37.24 & 2965 & 684 & 403 & Wentworth Ave \\& 33rd St             & 263 & Rhodes Ave \\& 32nd St                 & Subscriber & Male   & 1984\\\\\n\t 22178516 & 2019-03-31 23.31.30 & 2019-03-31 23.35.29 & 5747 & 239 & 309 & Leavitt St \\& Armitage Ave           & 219 & Damen Ave \\& Cortland St              & Subscriber & Male   & 1970\\\\\n\t 22178517 & 2019-03-31 23.32.54 & 2019-03-31 23.37.50 & 2846 & 296 & 181 & LaSalle St \\& Illinois St            &  24 & Fairbanks Ct \\& Grand Ave             & Customer   &        &   NA\\\\\n\t 22178518 & 2019-03-31 23.33.02 & 2019-03-31 23.43.15 & 2772 & 613 & 210 & Ashland Ave \\& Division St           & 210 & Ashland Ave \\& Division St            & Subscriber & Male   & 1972\\\\\n\t 22178519 & 2019-03-31 23.33.14 & 2019-03-31 23.37.40 & 4304 & 266 & 181 & LaSalle St \\& Illinois St            &  24 & Fairbanks Ct \\& Grand Ave             & Customer   &        &   NA\\\\\n\t 22178520 & 2019-03-31 23.34.08 & 2019-03-31 23.38.07 &  667 & 239 & 199 & Wabash Ave \\& Grand Ave              &  26 & McClurg Ct \\& Illinois St             & Subscriber & Female & 1984\\\\\n\t 22178521 & 2019-03-31 23.39.48 & 2019-03-31 23.41.41 & 4814 & 113 & 198 & Green St \\& Madison St               & 233 & Sangamon St \\& Washington Blvd (*)    & Subscriber & Male   & 1971\\\\\n\t 22178522 & 2019-03-31 23.47.05 & 2019-03-31 23.51.35 & 3873 & 270 &  69 & Damen Ave \\& Pierce Ave              & 183 & Damen Ave \\& Thomas St (Augusta Blvd) & Subscriber & Male   & 1985\\\\\n\t 22178524 & 2019-03-31 23.51.32 & 2019-04-01 0.04.09  & 1501 & 757 &  38 & Clark St \\& Lake St                  &  29 & Noble St \\& Milwaukee Ave             & Subscriber & Male   & 1993\\\\\n\t 22178525 & 2019-03-31 23.52.37 & 2019-03-31 23.58.09 & 3270 & 332 & 129 & Blue Island Ave \\& 18th St           & 202 & Halsted St \\& 18th St                 & Subscriber & Male   & 1992\\\\\n\t 22178526 & 2019-03-31 23.52.38 & 2019-04-01 0.06.44  & 3584 & 846 & 283 & LaSalle St \\& Jackson Blvd           & 273 & Michigan Ave \\& 18th St               & Subscriber & Male   & 1984\\\\\n\t 22178527 & 2019-03-31 23.53.08 & 2019-03-31 23.56.06 & 4384 & 178 & 321 & Wabash Ave \\& 9th St                 &  39 & Wabash Ave \\& Adams St                & Subscriber & Male   & 1969\\\\\n\t 22178528 & 2019-03-31 23.53.48 & 2019-04-01 0.01.16  & 5589 & 448 & 248 & Woodlawn Ave \\& 55th St              & 247 & Shore Dr \\& 55th St                   & Subscriber & Male   & 1998\\\\\n\\end{tabular}\n",
            "text/plain": [
              "       ride_id  started_at          ended_at            rideable_type\n",
              "1      21742443 2019-01-01 0.04.37  2019-01-01 0.11.07  2167         \n",
              "2      21742444 2019-01-01 0.08.13  2019-01-01 0.15.34  4386         \n",
              "3      21742445 2019-01-01 0.13.23  2019-01-01 0.27.12  1524         \n",
              "4      21742446 2019-01-01 0.13.45  2019-01-01 0.43.28   252         \n",
              "5      21742447 2019-01-01 0.14.52  2019-01-01 0.20.56  1170         \n",
              "6      21742448 2019-01-01 0.15.33  2019-01-01 0.19.09  2437         \n",
              "7      21742449 2019-01-01 0.16.06  2019-01-01 0.19.03  2708         \n",
              "8      21742450 2019-01-01 0.18.41  2019-01-01 0.20.21  2796         \n",
              "9      21742451 2019-01-01 0.18.43  2019-01-01 0.47.30  6205         \n",
              "10     21742452 2019-01-01 0.19.18  2019-01-01 0.24.54  3939         \n",
              "11     21742453 2019-01-01 0.20.34  2019-01-01 0.35.20  6243         \n",
              "12     21742454 2019-01-01 0.21.52  2019-01-01 0.32.45  6300         \n",
              "13     21742455 2019-01-01 0.23.04  2019-01-01 0.33.05  3029         \n",
              "14     21742456 2019-01-01 0.23.43  2019-01-01 0.33.05    84         \n",
              "15     21742457 2019-01-01 0.23.54  2019-01-01 0.39.00  5019         \n",
              "16     21742458 2019-01-01 0.24.08  2019-01-01 0.39.00  5526         \n",
              "17     21742459 2019-01-01 0.24.13  2019-01-01 0.31.00  3373         \n",
              "18     21742460 2019-01-01 0.24.27  2019-01-01 0.47.03  5777         \n",
              "19     21742461 2019-01-01 0.25.28  2019-01-01 0.27.10  3940         \n",
              "20     21742463 2019-01-01 0.29.19  2019-01-01 1.08.12  3914         \n",
              "21     21742464 2019-01-01 0.29.21  2019-01-01 0.45.21   140         \n",
              "22     21742465 2019-01-01 0.29.28  2019-01-01 1.07.49  3355         \n",
              "23     21742466 2019-01-01 0.29.47  2019-01-01 0.49.15  5026         \n",
              "24     21742467 2019-01-01 0.30.48  2019-01-01 0.38.42  1998         \n",
              "25     21742468 2019-01-01 0.33.09  2019-01-01 0.50.25  2630         \n",
              "26     21742469 2019-01-01 0.34.35  2019-01-01 0.38.25  3722         \n",
              "27     21742471 2019-01-01 0.38.11  2019-01-01 0.50.38  1166         \n",
              "28     21742472 2019-01-01 0.38.47  2019-01-01 0.50.38  1704         \n",
              "29     21742473 2019-01-01 0.40.16  2019-01-01 0.49.29  1476         \n",
              "30     21742474 2019-01-01 0.41.46  2019-01-01 0.50.27  4614         \n",
              "⋮      ⋮        ⋮                   ⋮                   ⋮            \n",
              "365040 22178488 2019-03-31 22.51.02 2019-03-31 22.54.00 4602         \n",
              "365041 22178489 2019-03-31 22.54.00 2019-03-31 23.02.49 4151         \n",
              "365042 22178490 2019-03-31 22.55.28 2019-03-31 23.02.10 3833         \n",
              "365043 22178491 2019-03-31 22.58.00 2019-03-31 23.06.12 1374         \n",
              "365044 22178492 2019-03-31 22.59.35 2019-03-31 23.01.38 3723         \n",
              "365045 22178493 2019-03-31 23.00.17 2019-03-31 23.10.52 2331         \n",
              "365046 22178494 2019-03-31 23.00.28 2019-03-31 23.09.20 1312         \n",
              "365047 22178495 2019-03-31 23.00.43 2019-03-31 23.13.04 6205         \n",
              "365048 22178502 2019-03-31 23.03.01 2019-03-31 23.15.20 3360         \n",
              "365049 22178503 2019-03-31 23.09.40 2019-03-31 23.19.30 6416         \n",
              "365050 22178504 2019-03-31 23.10.19 2019-03-31 23.21.33 3767         \n",
              "365051 22178505 2019-03-31 23.11.15 2019-03-31 23.20.27 1646         \n",
              "365052 22178506 2019-03-31 23.15.53 2019-03-31 23.20.27  632         \n",
              "365053 22178507 2019-03-31 23.16.57 2019-03-31 23.22.42 1537         \n",
              "365054 22178508 2019-03-31 23.18.42 2019-03-31 23.30.40 1952         \n",
              "365055 22178509 2019-03-31 23.20.36 2019-03-31 23.28.12 5331         \n",
              "365056 22178510 2019-03-31 23.21.07 2019-03-31 23.25.12   67         \n",
              "365057 22178515 2019-03-31 23.26.00 2019-03-31 23.37.24 2965         \n",
              "365058 22178516 2019-03-31 23.31.30 2019-03-31 23.35.29 5747         \n",
              "365059 22178517 2019-03-31 23.32.54 2019-03-31 23.37.50 2846         \n",
              "365060 22178518 2019-03-31 23.33.02 2019-03-31 23.43.15 2772         \n",
              "365061 22178519 2019-03-31 23.33.14 2019-03-31 23.37.40 4304         \n",
              "365062 22178520 2019-03-31 23.34.08 2019-03-31 23.38.07  667         \n",
              "365063 22178521 2019-03-31 23.39.48 2019-03-31 23.41.41 4814         \n",
              "365064 22178522 2019-03-31 23.47.05 2019-03-31 23.51.35 3873         \n",
              "365065 22178524 2019-03-31 23.51.32 2019-04-01 0.04.09  1501         \n",
              "365066 22178525 2019-03-31 23.52.37 2019-03-31 23.58.09 3270         \n",
              "365067 22178526 2019-03-31 23.52.38 2019-04-01 0.06.44  3584         \n",
              "365068 22178527 2019-03-31 23.53.08 2019-03-31 23.56.06 4384         \n",
              "365069 22178528 2019-03-31 23.53.48 2019-04-01 0.01.16  5589         \n",
              "       tripduration start_station_id start_station_name                 \n",
              "1      390          199              Wabash Ave & Grand Ave             \n",
              "2      441           44              State St & Randolph St             \n",
              "3      829           15              Racine Ave & 18th St               \n",
              "4      1,783.00     123              California Ave & Milwaukee Ave     \n",
              "5      364          173              Mies van der Rohe Way & Chicago Ave\n",
              "6      216           98              LaSalle St & Washington St         \n",
              "7      177           98              LaSalle St & Washington St         \n",
              "8      100          211              St. Clair St & Erie St             \n",
              "9      1,727.00     150              Fort Dearborn Dr & 31st St         \n",
              "10     336          268              Lake Shore Dr & North Blvd         \n",
              "11     886          299              Halsted St & Roscoe St             \n",
              "12     653          204              Prairie Ave & Garfield Blvd        \n",
              "13     601           90              Millennium Park                    \n",
              "14     562           90              Millennium Park                    \n",
              "15     906          289              Wells St & Concord Ln              \n",
              "16     892          289              Wells St & Concord Ln              \n",
              "17     407          152              Lincoln Ave & Diversey Pkwy        \n",
              "18     1,356.00     268              Lake Shore Dr & North Blvd         \n",
              "19     102           35              Streeter Dr & Grand Ave            \n",
              "20     2,333.00      35              Streeter Dr & Grand Ave            \n",
              "21     960           47              State St & Kinzie St               \n",
              "22     2,301.00      35              Streeter Dr & Grand Ave            \n",
              "23     1,168.00      85              Michigan Ave & Oak St              \n",
              "24     474          289              Wells St & Concord Ln              \n",
              "25     1,036.00      13              Wilton Ave & Diversey Pkwy         \n",
              "26     230          520              Greenview Ave & Jarvis Ave         \n",
              "27     747          256              Broadway & Sheridan Rd             \n",
              "28     711          256              Broadway & Sheridan Rd             \n",
              "29     553          254              Pine Grove Ave & Irving Park Rd    \n",
              "30     521           66              Clinton St & Lake St               \n",
              "⋮      ⋮            ⋮                ⋮                                  \n",
              "365040 178          460              Clark St & Bryn Mawr Ave           \n",
              "365041 529           47              State St & Kinzie St               \n",
              "365042 402          108              Halsted St & Polk St               \n",
              "365043 492          108              Halsted St & Polk St               \n",
              "365044 123           66              Clinton St & Lake St               \n",
              "365045 635           51              Clark St & Randolph St             \n",
              "365046 532           98              LaSalle St & Washington St         \n",
              "365047 741          301              Clark St & Schiller St             \n",
              "365048 739          295              Broadway & Argyle St               \n",
              "365049 590          114              Sheffield Ave & Waveland Ave       \n",
              "365050 674           50              Clark St & Ida B Wells Dr          \n",
              "365051 552          111              Sedgwick St & Huron St             \n",
              "365052 274           16              Paulina Ave & North Ave            \n",
              "365053 345          173              Mies van der Rohe Way & Chicago Ave\n",
              "365054 718          301              Clark St & Schiller St             \n",
              "365055 456          115              Sheffield Ave & Wellington Ave     \n",
              "365056 245          325              Clark St & Winnemac Ave            \n",
              "365057 684          403              Wentworth Ave & 33rd St            \n",
              "365058 239          309              Leavitt St & Armitage Ave          \n",
              "365059 296          181              LaSalle St & Illinois St           \n",
              "365060 613          210              Ashland Ave & Division St          \n",
              "365061 266          181              LaSalle St & Illinois St           \n",
              "365062 239          199              Wabash Ave & Grand Ave             \n",
              "365063 113          198              Green St & Madison St              \n",
              "365064 270           69              Damen Ave & Pierce Ave             \n",
              "365065 757           38              Clark St & Lake St                 \n",
              "365066 332          129              Blue Island Ave & 18th St          \n",
              "365067 846          283              LaSalle St & Jackson Blvd          \n",
              "365068 178          321              Wabash Ave & 9th St                \n",
              "365069 448          248              Woodlawn Ave & 55th St             \n",
              "       end_station_id end_station_name                     member_casual gender\n",
              "1       84            Milwaukee Ave & Grand Ave            Subscriber    Male  \n",
              "2      624            Dearborn St & Van Buren St (*)       Subscriber    Female\n",
              "3      644            Western Ave & Fillmore St (*)        Subscriber    Female\n",
              "4      176            Clark St & Elm St                    Subscriber    Male  \n",
              "5       35            Streeter Dr & Grand Ave              Subscriber    Male  \n",
              "6       49            Dearborn St & Monroe St              Subscriber    Female\n",
              "7       49            Dearborn St & Monroe St              Subscriber    Male  \n",
              "8      142            McClurg Ct & Erie St                 Subscriber    Male  \n",
              "9      148            State St & 33rd St                   Subscriber    Male  \n",
              "10     141            Clark St & Lincoln Ave               Subscriber    Male  \n",
              "11     295            Broadway & Argyle St                 Subscriber    Male  \n",
              "12     420            Ellis Ave & 55th St                  Subscriber    Female\n",
              "13     255            Indiana Ave & Roosevelt Rd           Subscriber    Male  \n",
              "14     255            Indiana Ave & Roosevelt Rd           Customer      Female\n",
              "15     324            Stockton Dr & Wrightwood Ave         Subscriber    Female\n",
              "16     324            Stockton Dr & Wrightwood Ave         Subscriber    Female\n",
              "17     166            Ashland Ave & Wrightwood Ave         Subscriber    Male  \n",
              "18     319            Greenview Ave & Diversey Pkwy        Customer      Female\n",
              "19      35            Streeter Dr & Grand Ave              Subscriber    Male  \n",
              "20      39            Wabash Ave & Adams St                Customer            \n",
              "21     111            Sedgwick St & Huron St               Subscriber    Male  \n",
              "22      39            Wabash Ave & Adams St                Customer            \n",
              "23     329            Lake Shore Dr & Diversey Pkwy        Subscriber    Male  \n",
              "24     313            Lakeview Ave & Fullerton Pkwy        Subscriber    Male  \n",
              "25      61            Wood St & Milwaukee Ave              Subscriber    Male  \n",
              "26     523            Eastlake Ter & Rogers Ave            Subscriber    Male  \n",
              "27     297            Paulina St & Montrose Ave            Subscriber    Male  \n",
              "28     297            Paulina St & Montrose Ave            Subscriber    Male  \n",
              "29     465            Marine Dr & Ainslie St               Subscriber    Male  \n",
              "30      52            Michigan Ave & Lake St               Subscriber    Male  \n",
              "⋮      ⋮              ⋮                                    ⋮             ⋮     \n",
              "365040 461            Broadway & Ridge Ave                 Subscriber    Male  \n",
              "365041  26            McClurg Ct & Illinois St             Subscriber    Male  \n",
              "365042  19            Loomis St & Taylor St (*)            Subscriber    Male  \n",
              "365043  41            Federal St & Polk St                 Subscriber    Male  \n",
              "365044  77            Clinton St & Madison St              Subscriber    Female\n",
              "365045 364            Larrabee St & Oak St                 Subscriber    Male  \n",
              "365046  22            May St & Taylor St                   Customer      Male  \n",
              "365047 115            Sheffield Ave & Wellington Ave       Subscriber    Male  \n",
              "365048 451            Sheridan Rd & Loyola Ave             Subscriber    Male  \n",
              "365049 330            Lincoln Ave & Addison St             Subscriber    Female\n",
              "365050  50            Clark St & Ida B Wells Dr            Subscriber    Male  \n",
              "365051 301            Clark St & Schiller St               Subscriber    Male  \n",
              "365052 158            Milwaukee Ave & Wabansia Ave         Subscriber    Male  \n",
              "365053 172            Rush St & Cedar St                   Subscriber    Male  \n",
              "365054 210            Ashland Ave & Division St            Subscriber    Male  \n",
              "365055 313            Lakeview Ave & Fullerton Pkwy        Subscriber    Male  \n",
              "365056 464            Damen Ave & Foster Ave               Subscriber    Male  \n",
              "365057 263            Rhodes Ave & 32nd St                 Subscriber    Male  \n",
              "365058 219            Damen Ave & Cortland St              Subscriber    Male  \n",
              "365059  24            Fairbanks Ct & Grand Ave             Customer            \n",
              "365060 210            Ashland Ave & Division St            Subscriber    Male  \n",
              "365061  24            Fairbanks Ct & Grand Ave             Customer            \n",
              "365062  26            McClurg Ct & Illinois St             Subscriber    Female\n",
              "365063 233            Sangamon St & Washington Blvd (*)    Subscriber    Male  \n",
              "365064 183            Damen Ave & Thomas St (Augusta Blvd) Subscriber    Male  \n",
              "365065  29            Noble St & Milwaukee Ave             Subscriber    Male  \n",
              "365066 202            Halsted St & 18th St                 Subscriber    Male  \n",
              "365067 273            Michigan Ave & 18th St               Subscriber    Male  \n",
              "365068  39            Wabash Ave & Adams St                Subscriber    Male  \n",
              "365069 247            Shore Dr & 55th St                   Subscriber    Male  \n",
              "       birthyear\n",
              "1      1989     \n",
              "2      1990     \n",
              "3      1994     \n",
              "4      1993     \n",
              "5      1994     \n",
              "6      1983     \n",
              "7      1984     \n",
              "8      1990     \n",
              "9      1995     \n",
              "10     1996     \n",
              "11     1994     \n",
              "12     1994     \n",
              "13     1986     \n",
              "14     1990     \n",
              "15     1989     \n",
              "16     1989     \n",
              "17     1967     \n",
              "18     1990     \n",
              "19     1985     \n",
              "20       NA     \n",
              "21     1957     \n",
              "22       NA     \n",
              "23     1959     \n",
              "24     1994     \n",
              "25     1991     \n",
              "26     1961     \n",
              "27     1968     \n",
              "28     1964     \n",
              "29     1990     \n",
              "30     1994     \n",
              "⋮      ⋮        \n",
              "365040 1986     \n",
              "365041 1990     \n",
              "365042 1992     \n",
              "365043 1992     \n",
              "365044 1985     \n",
              "365045 1972     \n",
              "365046 1993     \n",
              "365047 1988     \n",
              "365048 1992     \n",
              "365049 1985     \n",
              "365050 1957     \n",
              "365051 1994     \n",
              "365052 1991     \n",
              "365053 1980     \n",
              "365054 1988     \n",
              "365055 1987     \n",
              "365056 1983     \n",
              "365057 1984     \n",
              "365058 1970     \n",
              "365059   NA     \n",
              "365060 1972     \n",
              "365061   NA     \n",
              "365062 1984     \n",
              "365063 1971     \n",
              "365064 1985     \n",
              "365065 1993     \n",
              "365066 1992     \n",
              "365067 1984     \n",
              "365068 1969     \n",
              "365069 1998     "
            ]
          },
          "metadata": {}
        }
      ]
    },
    {
      "cell_type": "markdown",
      "source": [
        "**Inspecting Dataframes:**"
      ],
      "metadata": {
        "id": "I9QqBFfsYk9i"
      }
    },
    {
      "cell_type": "code",
      "source": [
        "str(Q1_2019)"
      ],
      "metadata": {
        "colab": {
          "base_uri": "https://localhost:8080/"
        },
        "id": "eFjN-g6vKmSh",
        "outputId": "93ae8e1c-3306-41ea-c0d7-b02ee65384a1"
      },
      "execution_count": 8,
      "outputs": [
        {
          "output_type": "stream",
          "name": "stdout",
          "text": [
            "'data.frame':\t365069 obs. of  12 variables:\n",
            " $ ride_id           : int  21742443 21742444 21742445 21742446 21742447 21742448 21742449 21742450 21742451 21742452 ...\n",
            " $ started_at        : chr  \"2019-01-01 0.04.37\" \"2019-01-01 0.08.13\" \"2019-01-01 0.13.23\" \"2019-01-01 0.13.45\" ...\n",
            " $ ended_at          : chr  \"2019-01-01 0.11.07\" \"2019-01-01 0.15.34\" \"2019-01-01 0.27.12\" \"2019-01-01 0.43.28\" ...\n",
            " $ rideable_type     : int  2167 4386 1524 252 1170 2437 2708 2796 6205 3939 ...\n",
            " $ tripduration      : chr  \"390\" \"441\" \"829\" \"1,783.00\" ...\n",
            " $ start_station_id  : int  199 44 15 123 173 98 98 211 150 268 ...\n",
            " $ start_station_name: chr  \"Wabash Ave & Grand Ave\" \"State St & Randolph St\" \"Racine Ave & 18th St\" \"California Ave & Milwaukee Ave\" ...\n",
            " $ end_station_id    : int  84 624 644 176 35 49 49 142 148 141 ...\n",
            " $ end_station_name  : chr  \"Milwaukee Ave & Grand Ave\" \"Dearborn St & Van Buren St (*)\" \"Western Ave & Fillmore St (*)\" \"Clark St & Elm St\" ...\n",
            " $ member_casual     : chr  \"Subscriber\" \"Subscriber\" \"Subscriber\" \"Subscriber\" ...\n",
            " $ gender            : chr  \"Male\" \"Female\" \"Female\" \"Male\" ...\n",
            " $ birthyear         : int  1989 1990 1994 1993 1994 1983 1984 1990 1995 1996 ...\n"
          ]
        }
      ]
    },
    {
      "cell_type": "code",
      "source": [
        "str(Q1_2020)"
      ],
      "metadata": {
        "colab": {
          "base_uri": "https://localhost:8080/"
        },
        "id": "z17ckRK0LRVF",
        "outputId": "6b018885-7014-4743-aad2-b366df5f49e0"
      },
      "execution_count": 9,
      "outputs": [
        {
          "output_type": "stream",
          "name": "stdout",
          "text": [
            "'data.frame':\t426887 obs. of  13 variables:\n",
            " $ ride_id           : chr  \"EACB19130B0CDA4A\" \"8FED874C809DC021\" \"789F3C21E472CA96\" \"C9A388DAC6ABF313\" ...\n",
            " $ rideable_type     : chr  \"docked_bike\" \"docked_bike\" \"docked_bike\" \"docked_bike\" ...\n",
            " $ started_at        : chr  \"2020-01-21 20.06.59\" \"2020-01-30 14.22.39\" \"2020-01-09 19.29.26\" \"2020-01-06 16.17.07\" ...\n",
            " $ ended_at          : chr  \"2020-01-21 20.14.30\" \"2020-01-30 14.26.22\" \"2020-01-09 19.32.17\" \"2020-01-06 16.25.56\" ...\n",
            " $ start_station_name: chr  \"Western Ave & Leland Ave\" \"Clark St & Montrose Ave\" \"Broadway & Belmont Ave\" \"Clark St & Randolph St\" ...\n",
            " $ start_station_id  : int  239 234 296 51 66 212 96 96 212 38 ...\n",
            " $ end_station_name  : chr  \"Clark St & Leland Ave\" \"Southport Ave & Irving Park Rd\" \"Wilton Ave & Belmont Ave\" \"Fairbanks Ct & Grand Ave\" ...\n",
            " $ end_station_id    : int  326 318 117 24 212 96 212 212 96 100 ...\n",
            " $ start_lat         : num  42 42 41.9 41.9 41.9 ...\n",
            " $ start_lng         : num  -87.7 -87.7 -87.6 -87.6 -87.6 ...\n",
            " $ end_lat           : num  42 42 41.9 41.9 41.9 ...\n",
            " $ end_lng           : num  -87.7 -87.7 -87.7 -87.6 -87.6 ...\n",
            " $ member_casual     : chr  \"member\" \"member\" \"member\" \"member\" ...\n"
          ]
        }
      ]
    },
    {
      "cell_type": "markdown",
      "source": [
        "Above results shows that there are various columns in both dataframes which are having conflicting object types.\n",
        "They needs to be made similar to stack correctly."
      ],
      "metadata": {
        "id": "qZqfBpyGYw8f"
      }
    },
    {
      "cell_type": "code",
      "source": [
        "# Convert ride_id and rideable_type to character\n",
        "Q1_2019<- Q1_2019 %>%\n",
        "  mutate(ride_id = as.character(ride_id),\n",
        "    rideable_type = as.character(rideable_type))"
      ],
      "metadata": {
        "id": "QN6pHU-hLUtw"
      },
      "execution_count": 10,
      "outputs": []
    },
    {
      "cell_type": "markdown",
      "source": [
        "**Combining both data and removing those observations which are not relevant:**"
      ],
      "metadata": {
        "id": "WsLNN6RCZgal"
      }
    },
    {
      "cell_type": "code",
      "source": [
        "# Combining Both data into single dataset\n",
        "all_trips<- bind_rows(Q1_2019, Q1_2020)"
      ],
      "metadata": {
        "id": "Ql1x38pSLrYO"
      },
      "execution_count": 11,
      "outputs": []
    },
    {
      "cell_type": "code",
      "source": [
        "# Removing data which is not common and irrelevant\n",
        "all_trips<- all_trips %>%\n",
        "  select(-c(start_lat, start_lng, end_lat, end_lng, tripduration,\n",
        "start_station_id, end_station_id, ride_id, rideable_type))"
      ],
      "metadata": {
        "id": "kC8Gq_vwOI6k"
      },
      "execution_count": 12,
      "outputs": []
    },
    {
      "cell_type": "markdown",
      "source": [
        "# Cleaning up Data and preparing for Analysis"
      ],
      "metadata": {
        "id": "iO7n7eVrOTka"
      }
    },
    {
      "cell_type": "code",
      "source": [
        "colnames(all_trips)"
      ],
      "metadata": {
        "colab": {
          "base_uri": "https://localhost:8080/",
          "height": 34
        },
        "id": "mmcWr29XOOko",
        "outputId": "ff73a010-c179-46cc-ec25-038b2dcd9f92"
      },
      "execution_count": 13,
      "outputs": [
        {
          "output_type": "display_data",
          "data": {
            "text/html": [
              "<style>\n",
              ".list-inline {list-style: none; margin:0; padding: 0}\n",
              ".list-inline>li {display: inline-block}\n",
              ".list-inline>li:not(:last-child)::after {content: \"\\00b7\"; padding: 0 .5ex}\n",
              "</style>\n",
              "<ol class=list-inline><li>'started_at'</li><li>'ended_at'</li><li>'start_station_name'</li><li>'end_station_name'</li><li>'member_casual'</li><li>'gender'</li><li>'birthyear'</li></ol>\n"
            ],
            "text/markdown": "1. 'started_at'\n2. 'ended_at'\n3. 'start_station_name'\n4. 'end_station_name'\n5. 'member_casual'\n6. 'gender'\n7. 'birthyear'\n\n\n",
            "text/latex": "\\begin{enumerate*}\n\\item 'started\\_at'\n\\item 'ended\\_at'\n\\item 'start\\_station\\_name'\n\\item 'end\\_station\\_name'\n\\item 'member\\_casual'\n\\item 'gender'\n\\item 'birthyear'\n\\end{enumerate*}\n",
            "text/plain": [
              "[1] \"started_at\"         \"ended_at\"           \"start_station_name\"\n",
              "[4] \"end_station_name\"   \"member_casual\"      \"gender\"            \n",
              "[7] \"birthyear\"         "
            ]
          },
          "metadata": {}
        }
      ]
    },
    {
      "cell_type": "code",
      "source": [
        "nrow(all_trips)"
      ],
      "metadata": {
        "colab": {
          "base_uri": "https://localhost:8080/",
          "height": 34
        },
        "id": "iCxEhSniOd-D",
        "outputId": "e440db42-28ed-4784-dd1a-874534d51671"
      },
      "execution_count": 14,
      "outputs": [
        {
          "output_type": "display_data",
          "data": {
            "text/html": [
              "791956"
            ],
            "text/markdown": "791956",
            "text/latex": "791956",
            "text/plain": [
              "[1] 791956"
            ]
          },
          "metadata": {}
        }
      ]
    },
    {
      "cell_type": "code",
      "source": [
        "dim(all_trips)"
      ],
      "metadata": {
        "colab": {
          "base_uri": "https://localhost:8080/",
          "height": 34
        },
        "id": "W4RJf6HiOgt_",
        "outputId": "fd4894c7-0937-4d01-fc67-81028924955a"
      },
      "execution_count": 15,
      "outputs": [
        {
          "output_type": "display_data",
          "data": {
            "text/html": [
              "<style>\n",
              ".list-inline {list-style: none; margin:0; padding: 0}\n",
              ".list-inline>li {display: inline-block}\n",
              ".list-inline>li:not(:last-child)::after {content: \"\\00b7\"; padding: 0 .5ex}\n",
              "</style>\n",
              "<ol class=list-inline><li>791956</li><li>7</li></ol>\n"
            ],
            "text/markdown": "1. 791956\n2. 7\n\n\n",
            "text/latex": "\\begin{enumerate*}\n\\item 791956\n\\item 7\n\\end{enumerate*}\n",
            "text/plain": [
              "[1] 791956      7"
            ]
          },
          "metadata": {}
        }
      ]
    },
    {
      "cell_type": "code",
      "source": [
        "head(all_trips)"
      ],
      "metadata": {
        "colab": {
          "base_uri": "https://localhost:8080/",
          "height": 286
        },
        "id": "08g5Nsl1OooN",
        "outputId": "180388fb-8a5f-4562-f875-3a5495586521"
      },
      "execution_count": 16,
      "outputs": [
        {
          "output_type": "display_data",
          "data": {
            "text/html": [
              "<table class=\"dataframe\">\n",
              "<caption>A data.frame: 6 × 7</caption>\n",
              "<thead>\n",
              "\t<tr><th></th><th scope=col>started_at</th><th scope=col>ended_at</th><th scope=col>start_station_name</th><th scope=col>end_station_name</th><th scope=col>member_casual</th><th scope=col>gender</th><th scope=col>birthyear</th></tr>\n",
              "\t<tr><th></th><th scope=col>&lt;chr&gt;</th><th scope=col>&lt;chr&gt;</th><th scope=col>&lt;chr&gt;</th><th scope=col>&lt;chr&gt;</th><th scope=col>&lt;chr&gt;</th><th scope=col>&lt;chr&gt;</th><th scope=col>&lt;int&gt;</th></tr>\n",
              "</thead>\n",
              "<tbody>\n",
              "\t<tr><th scope=row>1</th><td>2019-01-01 0.04.37</td><td>2019-01-01 0.11.07</td><td><span style=white-space:pre-wrap>Wabash Ave &amp; Grand Ave             </span></td><td><span style=white-space:pre-wrap>Milwaukee Ave &amp; Grand Ave     </span></td><td>Subscriber</td><td><span style=white-space:pre-wrap>Male  </span></td><td>1989</td></tr>\n",
              "\t<tr><th scope=row>2</th><td>2019-01-01 0.08.13</td><td>2019-01-01 0.15.34</td><td><span style=white-space:pre-wrap>State St &amp; Randolph St             </span></td><td>Dearborn St &amp; Van Buren St (*)</td><td>Subscriber</td><td>Female</td><td>1990</td></tr>\n",
              "\t<tr><th scope=row>3</th><td>2019-01-01 0.13.23</td><td>2019-01-01 0.27.12</td><td><span style=white-space:pre-wrap>Racine Ave &amp; 18th St               </span></td><td>Western Ave &amp; Fillmore St (*) </td><td>Subscriber</td><td>Female</td><td>1994</td></tr>\n",
              "\t<tr><th scope=row>4</th><td>2019-01-01 0.13.45</td><td>2019-01-01 0.43.28</td><td><span style=white-space:pre-wrap>California Ave &amp; Milwaukee Ave     </span></td><td><span style=white-space:pre-wrap>Clark St &amp; Elm St             </span></td><td>Subscriber</td><td><span style=white-space:pre-wrap>Male  </span></td><td>1993</td></tr>\n",
              "\t<tr><th scope=row>5</th><td>2019-01-01 0.14.52</td><td>2019-01-01 0.20.56</td><td>Mies van der Rohe Way &amp; Chicago Ave</td><td><span style=white-space:pre-wrap>Streeter Dr &amp; Grand Ave       </span></td><td>Subscriber</td><td><span style=white-space:pre-wrap>Male  </span></td><td>1994</td></tr>\n",
              "\t<tr><th scope=row>6</th><td>2019-01-01 0.15.33</td><td>2019-01-01 0.19.09</td><td><span style=white-space:pre-wrap>LaSalle St &amp; Washington St         </span></td><td><span style=white-space:pre-wrap>Dearborn St &amp; Monroe St       </span></td><td>Subscriber</td><td>Female</td><td>1983</td></tr>\n",
              "</tbody>\n",
              "</table>\n"
            ],
            "text/markdown": "\nA data.frame: 6 × 7\n\n| <!--/--> | started_at &lt;chr&gt; | ended_at &lt;chr&gt; | start_station_name &lt;chr&gt; | end_station_name &lt;chr&gt; | member_casual &lt;chr&gt; | gender &lt;chr&gt; | birthyear &lt;int&gt; |\n|---|---|---|---|---|---|---|---|\n| 1 | 2019-01-01 0.04.37 | 2019-01-01 0.11.07 | Wabash Ave &amp; Grand Ave              | Milwaukee Ave &amp; Grand Ave      | Subscriber | Male   | 1989 |\n| 2 | 2019-01-01 0.08.13 | 2019-01-01 0.15.34 | State St &amp; Randolph St              | Dearborn St &amp; Van Buren St (*) | Subscriber | Female | 1990 |\n| 3 | 2019-01-01 0.13.23 | 2019-01-01 0.27.12 | Racine Ave &amp; 18th St                | Western Ave &amp; Fillmore St (*)  | Subscriber | Female | 1994 |\n| 4 | 2019-01-01 0.13.45 | 2019-01-01 0.43.28 | California Ave &amp; Milwaukee Ave      | Clark St &amp; Elm St              | Subscriber | Male   | 1993 |\n| 5 | 2019-01-01 0.14.52 | 2019-01-01 0.20.56 | Mies van der Rohe Way &amp; Chicago Ave | Streeter Dr &amp; Grand Ave        | Subscriber | Male   | 1994 |\n| 6 | 2019-01-01 0.15.33 | 2019-01-01 0.19.09 | LaSalle St &amp; Washington St          | Dearborn St &amp; Monroe St        | Subscriber | Female | 1983 |\n\n",
            "text/latex": "A data.frame: 6 × 7\n\\begin{tabular}{r|lllllll}\n  & started\\_at & ended\\_at & start\\_station\\_name & end\\_station\\_name & member\\_casual & gender & birthyear\\\\\n  & <chr> & <chr> & <chr> & <chr> & <chr> & <chr> & <int>\\\\\n\\hline\n\t1 & 2019-01-01 0.04.37 & 2019-01-01 0.11.07 & Wabash Ave \\& Grand Ave              & Milwaukee Ave \\& Grand Ave      & Subscriber & Male   & 1989\\\\\n\t2 & 2019-01-01 0.08.13 & 2019-01-01 0.15.34 & State St \\& Randolph St              & Dearborn St \\& Van Buren St (*) & Subscriber & Female & 1990\\\\\n\t3 & 2019-01-01 0.13.23 & 2019-01-01 0.27.12 & Racine Ave \\& 18th St                & Western Ave \\& Fillmore St (*)  & Subscriber & Female & 1994\\\\\n\t4 & 2019-01-01 0.13.45 & 2019-01-01 0.43.28 & California Ave \\& Milwaukee Ave      & Clark St \\& Elm St              & Subscriber & Male   & 1993\\\\\n\t5 & 2019-01-01 0.14.52 & 2019-01-01 0.20.56 & Mies van der Rohe Way \\& Chicago Ave & Streeter Dr \\& Grand Ave        & Subscriber & Male   & 1994\\\\\n\t6 & 2019-01-01 0.15.33 & 2019-01-01 0.19.09 & LaSalle St \\& Washington St          & Dearborn St \\& Monroe St        & Subscriber & Female & 1983\\\\\n\\end{tabular}\n",
            "text/plain": [
              "  started_at         ended_at           start_station_name                 \n",
              "1 2019-01-01 0.04.37 2019-01-01 0.11.07 Wabash Ave & Grand Ave             \n",
              "2 2019-01-01 0.08.13 2019-01-01 0.15.34 State St & Randolph St             \n",
              "3 2019-01-01 0.13.23 2019-01-01 0.27.12 Racine Ave & 18th St               \n",
              "4 2019-01-01 0.13.45 2019-01-01 0.43.28 California Ave & Milwaukee Ave     \n",
              "5 2019-01-01 0.14.52 2019-01-01 0.20.56 Mies van der Rohe Way & Chicago Ave\n",
              "6 2019-01-01 0.15.33 2019-01-01 0.19.09 LaSalle St & Washington St         \n",
              "  end_station_name               member_casual gender birthyear\n",
              "1 Milwaukee Ave & Grand Ave      Subscriber    Male   1989     \n",
              "2 Dearborn St & Van Buren St (*) Subscriber    Female 1990     \n",
              "3 Western Ave & Fillmore St (*)  Subscriber    Female 1994     \n",
              "4 Clark St & Elm St              Subscriber    Male   1993     \n",
              "5 Streeter Dr & Grand Ave        Subscriber    Male   1994     \n",
              "6 Dearborn St & Monroe St        Subscriber    Female 1983     "
            ]
          },
          "metadata": {}
        }
      ]
    },
    {
      "cell_type": "code",
      "source": [
        "str(all_trips)"
      ],
      "metadata": {
        "colab": {
          "base_uri": "https://localhost:8080/"
        },
        "id": "zFTFQgdVOsY2",
        "outputId": "7a775e11-a38b-4acf-b7e6-2792b0495d0e"
      },
      "execution_count": 17,
      "outputs": [
        {
          "output_type": "stream",
          "name": "stdout",
          "text": [
            "'data.frame':\t791956 obs. of  7 variables:\n",
            " $ started_at        : chr  \"2019-01-01 0.04.37\" \"2019-01-01 0.08.13\" \"2019-01-01 0.13.23\" \"2019-01-01 0.13.45\" ...\n",
            " $ ended_at          : chr  \"2019-01-01 0.11.07\" \"2019-01-01 0.15.34\" \"2019-01-01 0.27.12\" \"2019-01-01 0.43.28\" ...\n",
            " $ start_station_name: chr  \"Wabash Ave & Grand Ave\" \"State St & Randolph St\" \"Racine Ave & 18th St\" \"California Ave & Milwaukee Ave\" ...\n",
            " $ end_station_name  : chr  \"Milwaukee Ave & Grand Ave\" \"Dearborn St & Van Buren St (*)\" \"Western Ave & Fillmore St (*)\" \"Clark St & Elm St\" ...\n",
            " $ member_casual     : chr  \"Subscriber\" \"Subscriber\" \"Subscriber\" \"Subscriber\" ...\n",
            " $ gender            : chr  \"Male\" \"Female\" \"Female\" \"Male\" ...\n",
            " $ birthyear         : int  1989 1990 1994 1993 1994 1983 1984 1990 1995 1996 ...\n"
          ]
        }
      ]
    },
    {
      "cell_type": "markdown",
      "source": [
        "Since `Member_casual` are given differtent names in both data, they needs to be assigned common name for future work."
      ],
      "metadata": {
        "id": "5qWh0bUQZ2cU"
      }
    },
    {
      "cell_type": "code",
      "source": [
        "# Reassign to the desired values\n",
        "all_trips<- all_trips %>%\n",
        "  mutate(member_casual = recode(member_casual,\n",
        "                \"Subscriber\" = \"member\",\n",
        "                \"Customer\" = \"casual\"))"
      ],
      "metadata": {
        "id": "bkZE3XfwO8It"
      },
      "execution_count": 18,
      "outputs": []
    },
    {
      "cell_type": "code",
      "source": [
        "table(all_trips$member_casual)"
      ],
      "metadata": {
        "colab": {
          "base_uri": "https://localhost:8080/",
          "height": 71
        },
        "id": "7UES2CT3QA9q",
        "outputId": "b7607a63-c9d4-4d14-88dc-e593b6934410"
      },
      "execution_count": 19,
      "outputs": [
        {
          "output_type": "display_data",
          "data": {
            "text/plain": [
              "\n",
              "casual member \n",
              " 71643 720313 "
            ]
          },
          "metadata": {}
        }
      ]
    },
    {
      "cell_type": "code",
      "source": [
        "# Check for missing values in each column\n",
        "colSums(is.na(all_trips))"
      ],
      "metadata": {
        "colab": {
          "base_uri": "https://localhost:8080/",
          "height": 34
        },
        "id": "-oUpZoB39ZtZ",
        "outputId": "721ee64c-a8bf-431f-cc87-f826b636064b"
      },
      "execution_count": 20,
      "outputs": [
        {
          "output_type": "display_data",
          "data": {
            "text/html": [
              "<style>\n",
              ".dl-inline {width: auto; margin:0; padding: 0}\n",
              ".dl-inline>dt, .dl-inline>dd {float: none; width: auto; display: inline-block}\n",
              ".dl-inline>dt::after {content: \":\\0020\"; padding-right: .5ex}\n",
              ".dl-inline>dt:not(:first-of-type) {padding-left: .5ex}\n",
              "</style><dl class=dl-inline><dt>started_at</dt><dd>0</dd><dt>ended_at</dt><dd>0</dd><dt>start_station_name</dt><dd>0</dd><dt>end_station_name</dt><dd>0</dd><dt>member_casual</dt><dd>0</dd><dt>gender</dt><dd>426887</dd><dt>birthyear</dt><dd>444910</dd></dl>\n"
            ],
            "text/markdown": "started_at\n:   0ended_at\n:   0start_station_name\n:   0end_station_name\n:   0member_casual\n:   0gender\n:   426887birthyear\n:   444910\n\n",
            "text/latex": "\\begin{description*}\n\\item[started\\textbackslash{}\\_at] 0\n\\item[ended\\textbackslash{}\\_at] 0\n\\item[start\\textbackslash{}\\_station\\textbackslash{}\\_name] 0\n\\item[end\\textbackslash{}\\_station\\textbackslash{}\\_name] 0\n\\item[member\\textbackslash{}\\_casual] 0\n\\item[gender] 426887\n\\item[birthyear] 444910\n\\end{description*}\n",
            "text/plain": [
              "        started_at           ended_at start_station_name   end_station_name \n",
              "                 0                  0                  0                  0 \n",
              "     member_casual             gender          birthyear \n",
              "                 0             426887             444910 "
            ]
          },
          "metadata": {}
        }
      ]
    },
    {
      "cell_type": "markdown",
      "source": [
        "Abore result shows that threre are too many NA values under the columns `gender` and `birthyear`, this may be because we got data on these categories only in 2019. Thus we can not make any inference about the gender type or age of the rider. So we should drop these columns."
      ],
      "metadata": {
        "id": "Ut1OPVRi8mZk"
      }
    },
    {
      "cell_type": "code",
      "source": [
        "all_trips <- all_trips %>%\n",
        "  select(-c(gender, birthyear))"
      ],
      "metadata": {
        "id": "VXXTaHmU911F"
      },
      "execution_count": 21,
      "outputs": []
    },
    {
      "cell_type": "markdown",
      "source": [
        "## Formatting Date"
      ],
      "metadata": {
        "id": "0NMYGLWEQIYC"
      }
    },
    {
      "cell_type": "markdown",
      "source": [
        "We can see that the columns containing date and time information, are been comsidered as character. Let's convert them to date and time format:"
      ],
      "metadata": {
        "id": "N5ozPmawWADC"
      }
    },
    {
      "cell_type": "code",
      "source": [
        "all_trips$Date <- as.Date(all_trips$started_at)  # Default format is yyyy-mm-dd\n",
        "all_trips$month <- format(as.Date(all_trips$Date), \"%m\")  # Month\n",
        "all_trips$day<- format(as.Date(all_trips$Date), \"%d\")  # Day\n",
        "all_trips$year<- format(as.Date(all_trips$Date), \"%y\")  # Year\n",
        "all_trips$day_of_week<- format(as.Date(all_trips$Date), \"%A\")  # Day of Week"
      ],
      "metadata": {
        "id": "Tpybsf0pQFc_"
      },
      "execution_count": 22,
      "outputs": []
    },
    {
      "cell_type": "code",
      "source": [
        "# Convert started_at and ended_at to date-time format\n",
        "all_trips$started_at <- as.POSIXct(all_trips$started_at,\n",
        "format = \"%Y-%m-%d %H.%M.%S\")\n",
        "all_trips$ended_at <- as.POSIXct(all_trips$ended_at,\n",
        "format = \"%Y-%m-%d %H.%M.%S\")"
      ],
      "metadata": {
        "id": "lUA9EPsuQZjc"
      },
      "execution_count": 23,
      "outputs": []
    },
    {
      "cell_type": "code",
      "source": [
        "# Adding the ride length of the ride (in seconds)\n",
        "all_trips$ride_length <- difftime(all_trips$ended_at,all_trips$started_at)"
      ],
      "metadata": {
        "id": "BNRz7mu1QlH9"
      },
      "execution_count": 24,
      "outputs": []
    },
    {
      "cell_type": "code",
      "source": [
        "# Converting ride_length from factor to numeric\n",
        "is.factor(all_trips$ride_length)\n",
        "all_trips$ride_length <- as.numeric(as.character(all_trips$ride_length))\n",
        "is.numeric(all_trips$ride_length)"
      ],
      "metadata": {
        "colab": {
          "base_uri": "https://localhost:8080/",
          "height": 52
        },
        "id": "R9CgWsY4Qs9n",
        "outputId": "dbd7f837-eef8-4f8f-ecda-f3a2af01eee7"
      },
      "execution_count": 25,
      "outputs": [
        {
          "output_type": "display_data",
          "data": {
            "text/html": [
              "FALSE"
            ],
            "text/markdown": "FALSE",
            "text/latex": "FALSE",
            "text/plain": [
              "[1] FALSE"
            ]
          },
          "metadata": {}
        },
        {
          "output_type": "display_data",
          "data": {
            "text/html": [
              "TRUE"
            ],
            "text/markdown": "TRUE",
            "text/latex": "TRUE",
            "text/plain": [
              "[1] TRUE"
            ]
          },
          "metadata": {}
        }
      ]
    },
    {
      "cell_type": "markdown",
      "source": [
        "## Removing unnecessary data & Checking for Outliers"
      ],
      "metadata": {
        "id": "rGgq2omiSue8"
      }
    },
    {
      "cell_type": "markdown",
      "source": [
        "Observing different observations and analysing different categories, it was observed that there are many observations showing `start_station_name` or `end_station_name` as \"HQ QR\", means that they are those rides which are taken from or to Headquaters, either for mentinance purpose or were straight from production facility. So they should be removed as they might give wrong interpretations.\n",
        "\n",
        "Also there are few rids with negative or zero `ride_length`, which might be because of either technical issues or wrongly interpreted during data entry. Either way they may give the wrong interpretation of the data, so they too must be removed."
      ],
      "metadata": {
        "id": "fnUOkjofW3b5"
      }
    },
    {
      "cell_type": "code",
      "source": [
        "# Filter out rides starting at \"HQ QR\"\n",
        "all_trips_v2 <- all_trips %>%\n",
        "  filter(start_station_name != \"HQ QR\" | end_station_name != \"HQ QR\")\n",
        "\n",
        "# Filter out rides with negative ride length\n",
        "all_trips_v2 <- all_trips_v2 %>%\n",
        "  filter(ride_length >= 0)"
      ],
      "metadata": {
        "id": "E9KG1BpIQ4DC"
      },
      "execution_count": 26,
      "outputs": []
    },
    {
      "cell_type": "markdown",
      "source": [
        "**Plotting Boxplot and Q-Q plot, to observe outliers if any:**"
      ],
      "metadata": {
        "id": "OMj6MemxaQHO"
      }
    },
    {
      "cell_type": "code",
      "source": [
        "boxplot(all_trips_v2$ride_length, main=\"Boxplot of Ride Length\")"
      ],
      "metadata": {
        "colab": {
          "base_uri": "https://localhost:8080/",
          "height": 437
        },
        "id": "Y5Dt1XC2KcA2",
        "outputId": "d48dc905-c630-41ed-88c9-5033fc2da018"
      },
      "execution_count": 27,
      "outputs": [
        {
          "output_type": "display_data",
          "data": {
            "text/plain": [
              "Plot with title “Boxplot of Ride Length”"
            ],
            "image/png": "[encoded data removed]"
          },
          "metadata": {
            "image/png": {
              "width": 420,
              "height": 420
            }
          }
        }
      ]
    },
    {
      "cell_type": "code",
      "source": [
        "qqnorm(all_trips_v2$ride_length)\n",
        "qqline(all_trips_v2$ride_length)"
      ],
      "metadata": {
        "colab": {
          "base_uri": "https://localhost:8080/",
          "height": 437
        },
        "id": "hGSJ1SjDNhE1",
        "outputId": "e4f4e8d2-7c03-4aa9-8867-a18e45d17472"
      },
      "execution_count": 28,
      "outputs": [
        {
          "output_type": "display_data",
          "data": {
            "text/plain": [
              "Plot with title “Normal Q-Q Plot”"
            ],
            "image/png": "[encoded data removed]"
          },
          "metadata": {
            "image/png": {
              "width": 420,
              "height": 420
            }
          }
        }
      ]
    },
    {
      "cell_type": "code",
      "source": [
        "# Log_transformation of ride length and plotting Q-Q plot\n",
        "\n",
        "all_trips_v2$log_ride_length <- log(all_trips_v2$ride_length + 1)\n",
        "qqnorm(all_trips_v2$log_ride_length)\n",
        "qqline(all_trips_v2$log_ride_length)\n"
      ],
      "metadata": {
        "colab": {
          "base_uri": "https://localhost:8080/",
          "height": 437
        },
        "id": "R9wRNCT1ONss",
        "outputId": "03ab719d-d663-4133-b0eb-32e286fb7bbf"
      },
      "execution_count": 29,
      "outputs": [
        {
          "output_type": "display_data",
          "data": {
            "text/plain": [
              "Plot with title “Normal Q-Q Plot”"
            ],
            "image/png": "[encoded data removed]"
          },
          "metadata": {
            "image/png": {
              "width": 420,
              "height": 420
            }
          }
        }
      ]
    },
    {
      "cell_type": "markdown",
      "source": [
        "Above plots show that there are many outliers present in the data frame which might affect our interpretations. So they need to be removed.\n",
        "\n",
        "Here we are using Quartile method for removing outliers from lower and upper bound of distribution:"
      ],
      "metadata": {
        "id": "ho4LZGNXakov"
      }
    },
    {
      "cell_type": "code",
      "source": [
        "Q1 <- quantile(all_trips_v2$ride_length, 0.25)\n",
        "Q3 <- quantile(all_trips_v2$ride_length, 0.75)\n",
        "IQR_value <- IQR(all_trips_v2$ride_length)\n",
        "lower_bound <- Q1 - 1.5 * IQR_value\n",
        "upper_bound <- Q3 + 1.5 * IQR_value\n",
        "outliers <- all_trips_v2[all_trips_v2$ride_length < lower_bound |\n",
        "   all_trips_v2$ride_length > upper_bound, ]\n",
        "dim(outliers)"
      ],
      "metadata": {
        "colab": {
          "base_uri": "https://localhost:8080/",
          "height": 34
        },
        "id": "dxTHN-CFKp6W",
        "outputId": "05fd6220-7fa7-40e7-8417-a9af70d1cdd9"
      },
      "execution_count": 30,
      "outputs": [
        {
          "output_type": "display_data",
          "data": {
            "text/html": [
              "<style>\n",
              ".list-inline {list-style: none; margin:0; padding: 0}\n",
              ".list-inline>li {display: inline-block}\n",
              ".list-inline>li:not(:last-child)::after {content: \"\\00b7\"; padding: 0 .5ex}\n",
              "</style>\n",
              "<ol class=list-inline><li>54468</li><li>12</li></ol>\n"
            ],
            "text/markdown": "1. 54468\n2. 12\n\n\n",
            "text/latex": "\\begin{enumerate*}\n\\item 54468\n\\item 12\n\\end{enumerate*}\n",
            "text/plain": [
              "[1] 54468    12"
            ]
          },
          "metadata": {}
        }
      ]
    },
    {
      "cell_type": "code",
      "source": [
        "# Subset to keep only non-outlier observations\n",
        "df_no_outliers <- all_trips_v2[all_trips_v2$ride_length >= lower_bound &\n",
        "                                   all_trips_v2$ride_length <= upper_bound, ]\n",
        "\n",
        "# Check dimensions\n",
        "dim(df_no_outliers)"
      ],
      "metadata": {
        "colab": {
          "base_uri": "https://localhost:8080/",
          "height": 34
        },
        "id": "9VLXgzDoRfmG",
        "outputId": "d0cfede7-0959-4091-9747-52a3a5331131"
      },
      "execution_count": 31,
      "outputs": [
        {
          "output_type": "display_data",
          "data": {
            "text/html": [
              "<style>\n",
              ".list-inline {list-style: none; margin:0; padding: 0}\n",
              ".list-inline>li {display: inline-block}\n",
              ".list-inline>li:not(:last-child)::after {content: \"\\00b7\"; padding: 0 .5ex}\n",
              "</style>\n",
              "<ol class=list-inline><li>733722</li><li>12</li></ol>\n"
            ],
            "text/markdown": "1. 733722\n2. 12\n\n\n",
            "text/latex": "\\begin{enumerate*}\n\\item 733722\n\\item 12\n\\end{enumerate*}\n",
            "text/plain": [
              "[1] 733722     12"
            ]
          },
          "metadata": {}
        }
      ]
    },
    {
      "cell_type": "markdown",
      "source": [
        "Again plotting Q-Q norm, to check the effect of removed outliers:"
      ],
      "metadata": {
        "id": "wQrVAytfbg6F"
      }
    },
    {
      "cell_type": "code",
      "source": [
        "qqnorm(df_no_outliers$ride_length)\n",
        "qqline(df_no_outliers$ride_length)"
      ],
      "metadata": {
        "colab": {
          "base_uri": "https://localhost:8080/",
          "height": 437
        },
        "id": "1Bh_bfATSHok",
        "outputId": "7136a13c-c534-4004-abfd-a5ddcf279b60"
      },
      "execution_count": 32,
      "outputs": [
        {
          "output_type": "display_data",
          "data": {
            "text/plain": [
              "Plot with title “Normal Q-Q Plot”"
            ],
            "image/png": "[encoded data removed]"
          },
          "metadata": {
            "image/png": {
              "width": 420,
              "height": 420
            }
          }
        }
      ]
    },
    {
      "cell_type": "code",
      "source": [
        "qqnorm(df_no_outliers$log_ride_length)\n",
        "qqline(df_no_outliers$log_ride_length)"
      ],
      "metadata": {
        "colab": {
          "base_uri": "https://localhost:8080/",
          "height": 437
        },
        "id": "VgIb1Qk-SiGj",
        "outputId": "29ba1a70-d1b8-4fe7-d9b3-0938ef390275"
      },
      "execution_count": 33,
      "outputs": [
        {
          "output_type": "display_data",
          "data": {
            "text/plain": [
              "Plot with title “Normal Q-Q Plot”"
            ],
            "image/png": "[encoded data removed]"
          },
          "metadata": {
            "image/png": {
              "width": 420,
              "height": 420
            }
          }
        }
      ]
    },
    {
      "cell_type": "code",
      "source": [
        "dim(df_no_outliers)"
      ],
      "metadata": {
        "colab": {
          "base_uri": "https://localhost:8080/",
          "height": 34
        },
        "id": "qJRvGN_LBlTL",
        "outputId": "499950f2-f082-49a8-f9a1-3ab8e64fa7c0"
      },
      "execution_count": 34,
      "outputs": [
        {
          "output_type": "display_data",
          "data": {
            "text/html": [
              "<style>\n",
              ".list-inline {list-style: none; margin:0; padding: 0}\n",
              ".list-inline>li {display: inline-block}\n",
              ".list-inline>li:not(:last-child)::after {content: \"\\00b7\"; padding: 0 .5ex}\n",
              "</style>\n",
              "<ol class=list-inline><li>733722</li><li>12</li></ol>\n"
            ],
            "text/markdown": "1. 733722\n2. 12\n\n\n",
            "text/latex": "\\begin{enumerate*}\n\\item 733722\n\\item 12\n\\end{enumerate*}\n",
            "text/plain": [
              "[1] 733722     12"
            ]
          },
          "metadata": {}
        }
      ]
    },
    {
      "cell_type": "code",
      "source": [
        "write.csv(df_no_outliers, \"clean_data.csv\", row.names = FALSE)\n"
      ],
      "metadata": {
        "id": "xtGUUBqvETfo"
      },
      "execution_count": 35,
      "outputs": []
    },
    {
      "cell_type": "markdown",
      "source": [
        "This shows that although a lot of outliers are removed but still the data is not evenly spread accross the observations.\n",
        "\n",
        "So before making any conclusions or observations we must be extreamly causious of this fact.\n"
      ],
      "metadata": {
        "id": "m8MSFF_pb879"
      }
    },
    {
      "cell_type": "markdown",
      "source": [
        "# Discriptive Analysis"
      ],
      "metadata": {
        "id": "qSQ17zCoTGZT"
      }
    },
    {
      "cell_type": "markdown",
      "source": [
        "Here we will do a basic discreptive analysis of out final and somewhat cleaned data."
      ],
      "metadata": {
        "id": "naiWJvr7cZv-"
      }
    },
    {
      "cell_type": "code",
      "source": [
        "clean_data <- df_no_outliers"
      ],
      "metadata": {
        "id": "89SxiV5Bd_az"
      },
      "execution_count": 36,
      "outputs": []
    },
    {
      "cell_type": "code",
      "source": [
        "# Ride Length\n",
        "summary(clean_data$ride_length)"
      ],
      "metadata": {
        "colab": {
          "base_uri": "https://localhost:8080/",
          "height": 53
        },
        "id": "9JmCujARS62M",
        "outputId": "0692dfec-920e-44b3-bb9f-39915f0ddf43"
      },
      "execution_count": 37,
      "outputs": [
        {
          "output_type": "display_data",
          "data": {
            "text/plain": [
              "   Min. 1st Qu.  Median    Mean 3rd Qu.    Max. \n",
              "    1.0   318.0   506.0   606.9   804.0  1783.0 "
            ]
          },
          "metadata": {}
        }
      ]
    },
    {
      "cell_type": "code",
      "source": [
        "# Members Vs Casual\n",
        "agg_results <- aggregate(data = clean_data, ride_length ~ member_casual,\n",
        "FUN = function(x) c(mean = mean(x),\n",
        "                    median = median(x),\n",
        "                    std_deviation = sd(x),\n",
        "                    variance = var(x),\n",
        "                    max = max(x),\n",
        "                    min = min(x)))"
      ],
      "metadata": {
        "id": "DMjj_C1eTQOU"
      },
      "execution_count": 38,
      "outputs": []
    },
    {
      "cell_type": "code",
      "source": [
        "# Convert ride_length to a data frame\n",
        "ride_length_df <- as.data.frame(agg_results$ride_length)\n",
        "\n",
        "# Create result_df using the converted data frame\n",
        "result_df <- data.frame(\n",
        "  member_casual = agg_results$member_casual,\n",
        "  ride_length_df\n",
        ")\n",
        "result_df"
      ],
      "metadata": {
        "id": "aRX0enbYTVd8",
        "colab": {
          "base_uri": "https://localhost:8080/",
          "height": 161
        },
        "outputId": "2cb3da00-1e52-4280-8589-929e82abb0b0"
      },
      "execution_count": 39,
      "outputs": [
        {
          "output_type": "display_data",
          "data": {
            "text/html": [
              "<table class=\"dataframe\">\n",
              "<caption>A data.frame: 2 × 7</caption>\n",
              "<thead>\n",
              "\t<tr><th scope=col>member_casual</th><th scope=col>mean</th><th scope=col>median</th><th scope=col>std_deviation</th><th scope=col>variance</th><th scope=col>max</th><th scope=col>min</th></tr>\n",
              "\t<tr><th scope=col>&lt;chr&gt;</th><th scope=col>&lt;dbl&gt;</th><th scope=col>&lt;dbl&gt;</th><th scope=col>&lt;dbl&gt;</th><th scope=col>&lt;dbl&gt;</th><th scope=col>&lt;dbl&gt;</th><th scope=col>&lt;dbl&gt;</th></tr>\n",
              "</thead>\n",
              "<tbody>\n",
              "\t<tr><td>casual</td><td>962.2180</td><td>942</td><td>446.4468</td><td>199314.8</td><td>1783</td><td>2</td></tr>\n",
              "\t<tr><td>member</td><td>584.4895</td><td>489</td><td>364.6772</td><td>132989.5</td><td>1783</td><td>1</td></tr>\n",
              "</tbody>\n",
              "</table>\n"
            ],
            "text/markdown": "\nA data.frame: 2 × 7\n\n| member_casual &lt;chr&gt; | mean &lt;dbl&gt; | median &lt;dbl&gt; | std_deviation &lt;dbl&gt; | variance &lt;dbl&gt; | max &lt;dbl&gt; | min &lt;dbl&gt; |\n|---|---|---|---|---|---|---|\n| casual | 962.2180 | 942 | 446.4468 | 199314.8 | 1783 | 2 |\n| member | 584.4895 | 489 | 364.6772 | 132989.5 | 1783 | 1 |\n\n",
            "text/latex": "A data.frame: 2 × 7\n\\begin{tabular}{lllllll}\n member\\_casual & mean & median & std\\_deviation & variance & max & min\\\\\n <chr> & <dbl> & <dbl> & <dbl> & <dbl> & <dbl> & <dbl>\\\\\n\\hline\n\t casual & 962.2180 & 942 & 446.4468 & 199314.8 & 1783 & 2\\\\\n\t member & 584.4895 & 489 & 364.6772 & 132989.5 & 1783 & 1\\\\\n\\end{tabular}\n",
            "text/plain": [
              "  member_casual mean     median std_deviation variance max  min\n",
              "1 casual        962.2180 942    446.4468      199314.8 1783 2  \n",
              "2 member        584.4895 489    364.6772      132989.5 1783 1  "
            ]
          },
          "metadata": {}
        }
      ]
    },
    {
      "cell_type": "markdown",
      "source": [
        "This shows that the average `ride_length` of `members` is less than that of `casual` users. At the same time the `ride_length` of `casual` members tend to varry more than the members on an average.\n",
        "\n",
        "Their minimum and maximum is almost same."
      ],
      "metadata": {
        "id": "8BgdYdvVcyzW"
      }
    },
    {
      "cell_type": "code",
      "source": [
        "# Average ride time by each day\n",
        "aggregate(clean_data, ride_length ~ member_casual + day_of_week, FUN = mean)"
      ],
      "metadata": {
        "colab": {
          "base_uri": "https://localhost:8080/",
          "height": 537
        },
        "id": "Mu5esW1yVjx7",
        "outputId": "ddfc8f95-42bd-4921-8518-0acfdb830c79"
      },
      "execution_count": 40,
      "outputs": [
        {
          "output_type": "display_data",
          "data": {
            "text/html": [
              "<table class=\"dataframe\">\n",
              "<caption>A data.frame: 14 × 3</caption>\n",
              "<thead>\n",
              "\t<tr><th scope=col>member_casual</th><th scope=col>day_of_week</th><th scope=col>ride_length</th></tr>\n",
              "\t<tr><th scope=col>&lt;chr&gt;</th><th scope=col>&lt;chr&gt;</th><th scope=col>&lt;dbl&gt;</th></tr>\n",
              "</thead>\n",
              "<tbody>\n",
              "\t<tr><td>casual</td><td>Friday   </td><td> 909.4072</td></tr>\n",
              "\t<tr><td>member</td><td>Friday   </td><td> 571.6020</td></tr>\n",
              "\t<tr><td>casual</td><td>Monday   </td><td> 906.6419</td></tr>\n",
              "\t<tr><td>member</td><td>Monday   </td><td> 580.3203</td></tr>\n",
              "\t<tr><td>casual</td><td>Saturday </td><td>1003.4015</td></tr>\n",
              "\t<tr><td>member</td><td>Saturday </td><td> 599.1841</td></tr>\n",
              "\t<tr><td>casual</td><td>Sunday   </td><td>1041.3895</td></tr>\n",
              "\t<tr><td>member</td><td>Sunday   </td><td> 617.8128</td></tr>\n",
              "\t<tr><td>casual</td><td>Thursday </td><td> 913.0723</td></tr>\n",
              "\t<tr><td>member</td><td>Thursday </td><td> 579.3084</td></tr>\n",
              "\t<tr><td>casual</td><td>Tuesday  </td><td> 897.7226</td></tr>\n",
              "\t<tr><td>member</td><td>Tuesday  </td><td> 585.2204</td></tr>\n",
              "\t<tr><td>casual</td><td>Wednesday</td><td> 943.8090</td></tr>\n",
              "\t<tr><td>member</td><td>Wednesday</td><td> 582.1343</td></tr>\n",
              "</tbody>\n",
              "</table>\n"
            ],
            "text/markdown": "\nA data.frame: 14 × 3\n\n| member_casual &lt;chr&gt; | day_of_week &lt;chr&gt; | ride_length &lt;dbl&gt; |\n|---|---|---|\n| casual | Friday    |  909.4072 |\n| member | Friday    |  571.6020 |\n| casual | Monday    |  906.6419 |\n| member | Monday    |  580.3203 |\n| casual | Saturday  | 1003.4015 |\n| member | Saturday  |  599.1841 |\n| casual | Sunday    | 1041.3895 |\n| member | Sunday    |  617.8128 |\n| casual | Thursday  |  913.0723 |\n| member | Thursday  |  579.3084 |\n| casual | Tuesday   |  897.7226 |\n| member | Tuesday   |  585.2204 |\n| casual | Wednesday |  943.8090 |\n| member | Wednesday |  582.1343 |\n\n",
            "text/latex": "A data.frame: 14 × 3\n\\begin{tabular}{lll}\n member\\_casual & day\\_of\\_week & ride\\_length\\\\\n <chr> & <chr> & <dbl>\\\\\n\\hline\n\t casual & Friday    &  909.4072\\\\\n\t member & Friday    &  571.6020\\\\\n\t casual & Monday    &  906.6419\\\\\n\t member & Monday    &  580.3203\\\\\n\t casual & Saturday  & 1003.4015\\\\\n\t member & Saturday  &  599.1841\\\\\n\t casual & Sunday    & 1041.3895\\\\\n\t member & Sunday    &  617.8128\\\\\n\t casual & Thursday  &  913.0723\\\\\n\t member & Thursday  &  579.3084\\\\\n\t casual & Tuesday   &  897.7226\\\\\n\t member & Tuesday   &  585.2204\\\\\n\t casual & Wednesday &  943.8090\\\\\n\t member & Wednesday &  582.1343\\\\\n\\end{tabular}\n",
            "text/plain": [
              "   member_casual day_of_week ride_length\n",
              "1  casual        Friday       909.4072  \n",
              "2  member        Friday       571.6020  \n",
              "3  casual        Monday       906.6419  \n",
              "4  member        Monday       580.3203  \n",
              "5  casual        Saturday    1003.4015  \n",
              "6  member        Saturday     599.1841  \n",
              "7  casual        Sunday      1041.3895  \n",
              "8  member        Sunday       617.8128  \n",
              "9  casual        Thursday     913.0723  \n",
              "10 member        Thursday     579.3084  \n",
              "11 casual        Tuesday      897.7226  \n",
              "12 member        Tuesday      585.2204  \n",
              "13 casual        Wednesday    943.8090  \n",
              "14 member        Wednesday    582.1343  "
            ]
          },
          "metadata": {}
        }
      ]
    },
    {
      "cell_type": "markdown",
      "source": [
        "Notice the `day_of_week` are out of order(are in alphabetical order), let's make them in order:"
      ],
      "metadata": {
        "id": "iSmE3xQeB4D1"
      }
    },
    {
      "cell_type": "code",
      "source": [
        "clean_data$day_of_week<- ordered(clean_data$day_of_week,\n",
        "          levels= c(\"Sunday\",\n",
        "                    \"Monday\",\n",
        "                    \"Tuesday\",\n",
        "                    \"Wednesday\",\n",
        "                    \"Thursday\",\n",
        "                    \"Friday\",\n",
        "                    \"Saturday\"))"
      ],
      "metadata": {
        "id": "uQHqC04KVuTL"
      },
      "execution_count": 41,
      "outputs": []
    },
    {
      "cell_type": "code",
      "source": [
        "aggregate(clean_data, ride_length ~ member_casual + day_of_week, FUN = mean)"
      ],
      "metadata": {
        "colab": {
          "base_uri": "https://localhost:8080/",
          "height": 537
        },
        "id": "xisK-1yEWFB6",
        "outputId": "340cab22-11e8-43fb-e509-f48c3b15c9e3"
      },
      "execution_count": 42,
      "outputs": [
        {
          "output_type": "display_data",
          "data": {
            "text/html": [
              "<table class=\"dataframe\">\n",
              "<caption>A data.frame: 14 × 3</caption>\n",
              "<thead>\n",
              "\t<tr><th scope=col>member_casual</th><th scope=col>day_of_week</th><th scope=col>ride_length</th></tr>\n",
              "\t<tr><th scope=col>&lt;chr&gt;</th><th scope=col>&lt;ord&gt;</th><th scope=col>&lt;dbl&gt;</th></tr>\n",
              "</thead>\n",
              "<tbody>\n",
              "\t<tr><td>casual</td><td>Sunday   </td><td>1041.3895</td></tr>\n",
              "\t<tr><td>member</td><td>Sunday   </td><td> 617.8128</td></tr>\n",
              "\t<tr><td>casual</td><td>Monday   </td><td> 906.6419</td></tr>\n",
              "\t<tr><td>member</td><td>Monday   </td><td> 580.3203</td></tr>\n",
              "\t<tr><td>casual</td><td>Tuesday  </td><td> 897.7226</td></tr>\n",
              "\t<tr><td>member</td><td>Tuesday  </td><td> 585.2204</td></tr>\n",
              "\t<tr><td>casual</td><td>Wednesday</td><td> 943.8090</td></tr>\n",
              "\t<tr><td>member</td><td>Wednesday</td><td> 582.1343</td></tr>\n",
              "\t<tr><td>casual</td><td>Thursday </td><td> 913.0723</td></tr>\n",
              "\t<tr><td>member</td><td>Thursday </td><td> 579.3084</td></tr>\n",
              "\t<tr><td>casual</td><td>Friday   </td><td> 909.4072</td></tr>\n",
              "\t<tr><td>member</td><td>Friday   </td><td> 571.6020</td></tr>\n",
              "\t<tr><td>casual</td><td>Saturday </td><td>1003.4015</td></tr>\n",
              "\t<tr><td>member</td><td>Saturday </td><td> 599.1841</td></tr>\n",
              "</tbody>\n",
              "</table>\n"
            ],
            "text/markdown": "\nA data.frame: 14 × 3\n\n| member_casual &lt;chr&gt; | day_of_week &lt;ord&gt; | ride_length &lt;dbl&gt; |\n|---|---|---|\n| casual | Sunday    | 1041.3895 |\n| member | Sunday    |  617.8128 |\n| casual | Monday    |  906.6419 |\n| member | Monday    |  580.3203 |\n| casual | Tuesday   |  897.7226 |\n| member | Tuesday   |  585.2204 |\n| casual | Wednesday |  943.8090 |\n| member | Wednesday |  582.1343 |\n| casual | Thursday  |  913.0723 |\n| member | Thursday  |  579.3084 |\n| casual | Friday    |  909.4072 |\n| member | Friday    |  571.6020 |\n| casual | Saturday  | 1003.4015 |\n| member | Saturday  |  599.1841 |\n\n",
            "text/latex": "A data.frame: 14 × 3\n\\begin{tabular}{lll}\n member\\_casual & day\\_of\\_week & ride\\_length\\\\\n <chr> & <ord> & <dbl>\\\\\n\\hline\n\t casual & Sunday    & 1041.3895\\\\\n\t member & Sunday    &  617.8128\\\\\n\t casual & Monday    &  906.6419\\\\\n\t member & Monday    &  580.3203\\\\\n\t casual & Tuesday   &  897.7226\\\\\n\t member & Tuesday   &  585.2204\\\\\n\t casual & Wednesday &  943.8090\\\\\n\t member & Wednesday &  582.1343\\\\\n\t casual & Thursday  &  913.0723\\\\\n\t member & Thursday  &  579.3084\\\\\n\t casual & Friday    &  909.4072\\\\\n\t member & Friday    &  571.6020\\\\\n\t casual & Saturday  & 1003.4015\\\\\n\t member & Saturday  &  599.1841\\\\\n\\end{tabular}\n",
            "text/plain": [
              "   member_casual day_of_week ride_length\n",
              "1  casual        Sunday      1041.3895  \n",
              "2  member        Sunday       617.8128  \n",
              "3  casual        Monday       906.6419  \n",
              "4  member        Monday       580.3203  \n",
              "5  casual        Tuesday      897.7226  \n",
              "6  member        Tuesday      585.2204  \n",
              "7  casual        Wednesday    943.8090  \n",
              "8  member        Wednesday    582.1343  \n",
              "9  casual        Thursday     913.0723  \n",
              "10 member        Thursday     579.3084  \n",
              "11 casual        Friday       909.4072  \n",
              "12 member        Friday       571.6020  \n",
              "13 casual        Saturday    1003.4015  \n",
              "14 member        Saturday     599.1841  "
            ]
          },
          "metadata": {}
        }
      ]
    },
    {
      "cell_type": "code",
      "source": [
        "# Analyze ridership data by weekday\n",
        "analysis<- clean_data %>%\n",
        "  mutate(weekday = wday(started_at, label= TRUE)) %>%    # Create weekday field\n",
        "  group_by(member_casual, weekday) %>%                   # Group by user type and weekday\n",
        "  summarise(number_of_rides= n(),\n",
        "            average_duration = mean(ride_length)) %>%    # Provide data for no. of rides and average duration\n",
        "  arrange(member_casual, weekday)                        # Sort"
      ],
      "metadata": {
        "colab": {
          "base_uri": "https://localhost:8080/"
        },
        "id": "y7lEeqvYWK_9",
        "outputId": "0fb7927c-e075-4d5d-c463-87ae91176e61"
      },
      "execution_count": 43,
      "outputs": [
        {
          "output_type": "stream",
          "name": "stderr",
          "text": [
            "\u001b[1m\u001b[22m`summarise()` has grouped output by 'member_casual'. You can override using the\n",
            "`.groups` argument.\n"
          ]
        }
      ]
    },
    {
      "cell_type": "code",
      "source": [
        "analysis"
      ],
      "metadata": {
        "colab": {
          "base_uri": "https://localhost:8080/",
          "height": 537
        },
        "id": "nbkLDO-IWWq9",
        "outputId": "a9bff440-71f6-4916-ca8b-35628a409b4f"
      },
      "execution_count": 44,
      "outputs": [
        {
          "output_type": "display_data",
          "data": {
            "text/html": [
              "<table class=\"dataframe\">\n",
              "<caption>A grouped_df: 14 × 4</caption>\n",
              "<thead>\n",
              "\t<tr><th scope=col>member_casual</th><th scope=col>weekday</th><th scope=col>number_of_rides</th><th scope=col>average_duration</th></tr>\n",
              "\t<tr><th scope=col>&lt;chr&gt;</th><th scope=col>&lt;ord&gt;</th><th scope=col>&lt;int&gt;</th><th scope=col>&lt;dbl&gt;</th></tr>\n",
              "</thead>\n",
              "<tbody>\n",
              "\t<tr><td>casual</td><td>Sun</td><td> 10605</td><td>1041.3895</td></tr>\n",
              "\t<tr><td>casual</td><td>Mon</td><td>  3988</td><td> 906.6419</td></tr>\n",
              "\t<tr><td>casual</td><td>Tue</td><td>  5115</td><td> 897.7226</td></tr>\n",
              "\t<tr><td>casual</td><td>Wed</td><td>  4833</td><td> 943.8090</td></tr>\n",
              "\t<tr><td>casual</td><td>Thu</td><td>  5004</td><td> 913.0723</td></tr>\n",
              "\t<tr><td>casual</td><td>Fri</td><td>  5601</td><td> 909.4072</td></tr>\n",
              "\t<tr><td>casual</td><td>Sat</td><td>  8319</td><td>1003.4015</td></tr>\n",
              "\t<tr><td>member</td><td>Sun</td><td> 55921</td><td> 617.8128</td></tr>\n",
              "\t<tr><td>member</td><td>Mon</td><td>106434</td><td> 580.3203</td></tr>\n",
              "\t<tr><td>member</td><td>Tue</td><td>123120</td><td> 585.2204</td></tr>\n",
              "\t<tr><td>member</td><td>Wed</td><td>117130</td><td> 582.1343</td></tr>\n",
              "\t<tr><td>member</td><td>Thu</td><td>120670</td><td> 579.3084</td></tr>\n",
              "\t<tr><td>member</td><td>Fri</td><td>111028</td><td> 571.6020</td></tr>\n",
              "\t<tr><td>member</td><td>Sat</td><td> 55954</td><td> 599.1841</td></tr>\n",
              "</tbody>\n",
              "</table>\n"
            ],
            "text/markdown": "\nA grouped_df: 14 × 4\n\n| member_casual &lt;chr&gt; | weekday &lt;ord&gt; | number_of_rides &lt;int&gt; | average_duration &lt;dbl&gt; |\n|---|---|---|---|\n| casual | Sun |  10605 | 1041.3895 |\n| casual | Mon |   3988 |  906.6419 |\n| casual | Tue |   5115 |  897.7226 |\n| casual | Wed |   4833 |  943.8090 |\n| casual | Thu |   5004 |  913.0723 |\n| casual | Fri |   5601 |  909.4072 |\n| casual | Sat |   8319 | 1003.4015 |\n| member | Sun |  55921 |  617.8128 |\n| member | Mon | 106434 |  580.3203 |\n| member | Tue | 123120 |  585.2204 |\n| member | Wed | 117130 |  582.1343 |\n| member | Thu | 120670 |  579.3084 |\n| member | Fri | 111028 |  571.6020 |\n| member | Sat |  55954 |  599.1841 |\n\n",
            "text/latex": "A grouped\\_df: 14 × 4\n\\begin{tabular}{llll}\n member\\_casual & weekday & number\\_of\\_rides & average\\_duration\\\\\n <chr> & <ord> & <int> & <dbl>\\\\\n\\hline\n\t casual & Sun &  10605 & 1041.3895\\\\\n\t casual & Mon &   3988 &  906.6419\\\\\n\t casual & Tue &   5115 &  897.7226\\\\\n\t casual & Wed &   4833 &  943.8090\\\\\n\t casual & Thu &   5004 &  913.0723\\\\\n\t casual & Fri &   5601 &  909.4072\\\\\n\t casual & Sat &   8319 & 1003.4015\\\\\n\t member & Sun &  55921 &  617.8128\\\\\n\t member & Mon & 106434 &  580.3203\\\\\n\t member & Tue & 123120 &  585.2204\\\\\n\t member & Wed & 117130 &  582.1343\\\\\n\t member & Thu & 120670 &  579.3084\\\\\n\t member & Fri & 111028 &  571.6020\\\\\n\t member & Sat &  55954 &  599.1841\\\\\n\\end{tabular}\n",
            "text/plain": [
              "   member_casual weekday number_of_rides average_duration\n",
              "1  casual        Sun      10605          1041.3895       \n",
              "2  casual        Mon       3988           906.6419       \n",
              "3  casual        Tue       5115           897.7226       \n",
              "4  casual        Wed       4833           943.8090       \n",
              "5  casual        Thu       5004           913.0723       \n",
              "6  casual        Fri       5601           909.4072       \n",
              "7  casual        Sat       8319          1003.4015       \n",
              "8  member        Sun      55921           617.8128       \n",
              "9  member        Mon     106434           580.3203       \n",
              "10 member        Tue     123120           585.2204       \n",
              "11 member        Wed     117130           582.1343       \n",
              "12 member        Thu     120670           579.3084       \n",
              "13 member        Fri     111028           571.6020       \n",
              "14 member        Sat      55954           599.1841       "
            ]
          },
          "metadata": {}
        }
      ]
    },
    {
      "cell_type": "code",
      "source": [
        "write.csv(analysis, file = \"number_of_riders.csv\")       # Exporting as csv"
      ],
      "metadata": {
        "id": "-5WuNxcfWbO4"
      },
      "execution_count": 45,
      "outputs": []
    },
    {
      "cell_type": "markdown",
      "source": [
        "# Visualization"
      ],
      "metadata": {
        "id": "4RsIwS7SWtPw"
      }
    },
    {
      "cell_type": "markdown",
      "source": [
        "Let's visualize the above results to get more clearity of the distribution."
      ],
      "metadata": {
        "id": "zbR3VdyAeq1Y"
      }
    },
    {
      "cell_type": "code",
      "source": [
        "library(scales)   # Needed for comma formatting of numbers"
      ],
      "metadata": {
        "id": "MbUg-yhzWoKw"
      },
      "execution_count": 46,
      "outputs": []
    },
    {
      "cell_type": "code",
      "source": [
        "# No. of rides by rider type\n",
        "clean_data %>%\n",
        "  mutate(weekday= wday(started_at, label= TRUE)) %>%\n",
        "  group_by(member_casual, weekday) %>%\n",
        "  summarise(number_of_rides= n(), average_duration = mean(ride_length)) %>%\n",
        "  arrange(member_casual, weekday) %>%\n",
        "  ggplot(aes(x = weekday, y = number_of_rides, fill = member_casual)) +\n",
        "  geom_col(position = \"dodge\") +\n",
        "  theme_minimal() +\n",
        "  labs(title = \"Number of riders\",\n",
        "       x = \"Weekday\",\n",
        "       y = \"Number of riders\",\n",
        "       fill = \"Type of User\")+\n",
        "  scale_y_continuous(labels = comma) +    # Comma formatting of y axis\n",
        "  theme(plot.title = element_text(hjust = 0.5, size = 16, face = \"bold\"))"
      ],
      "metadata": {
        "colab": {
          "base_uri": "https://localhost:8080/",
          "height": 473
        },
        "id": "7_5yEfZmW2nr",
        "outputId": "01e87701-f46a-4f93-ef40-19a4a9e95500"
      },
      "execution_count": 47,
      "outputs": [
        {
          "output_type": "stream",
          "name": "stderr",
          "text": [
            "\u001b[1m\u001b[22m`summarise()` has grouped output by 'member_casual'. You can override using the\n",
            "`.groups` argument.\n"
          ]
        },
        {
          "output_type": "display_data",
          "data": {
            "text/plain": [
              "plot without title"
            ],
            "image/png": "[encoded data removed]"
          },
          "metadata": {
            "image/png": {
              "width": 420,
              "height": 420
            }
          }
        }
      ]
    },
    {
      "cell_type": "markdown",
      "source": [
        "This shows that the the `number_of_rides` by members are always more than the casual users.\n",
        "\n",
        "Comparing the `daya_of_week`, the members tend to do more rides in weekdays, particularly the middle of week, i.e. Tuesday-Thursday. Where as the casual users are doing more rides during weekends."
      ],
      "metadata": {
        "id": "d6YLNAS2e2_C"
      }
    },
    {
      "cell_type": "code",
      "source": [
        "# Average Duration\n",
        "clean_data %>%\n",
        "  mutate(weekday= wday(started_at, label= TRUE)) %>%\n",
        "  group_by(member_casual, weekday) %>%\n",
        "  summarise(number_of_rides= n(), average_duration = mean(ride_length)) %>%\n",
        "  arrange(member_casual, weekday) %>%\n",
        "  ggplot(aes(x = weekday, y = average_duration, fill = member_casual)) +\n",
        "  geom_col(position = \"dodge\") +\n",
        "  labs(title = \"Average duration of ride\",\n",
        "       x = \"Weekday\",\n",
        "       y= \"Average Duration (sec.)\",\n",
        "       fill = \"Type of User\") +\n",
        "  theme_minimal() +\n",
        "  theme(plot.title = element_text(hjust = 0.5, size = 16, face = \"bold\"))"
      ],
      "metadata": {
        "colab": {
          "base_uri": "https://localhost:8080/",
          "height": 473
        },
        "id": "SBkp5EWaXCIL",
        "outputId": "28068ce8-e8d9-4362-c218-e1984f4be4e4"
      },
      "execution_count": 48,
      "outputs": [
        {
          "output_type": "stream",
          "name": "stderr",
          "text": [
            "\u001b[1m\u001b[22m`summarise()` has grouped output by 'member_casual'. You can override using the\n",
            "`.groups` argument.\n"
          ]
        },
        {
          "output_type": "display_data",
          "data": {
            "text/plain": [
              "plot without title"
            ],
            "image/png": "[encoded data removed]"
          },
          "metadata": {
            "image/png": {
              "width": 420,
              "height": 420
            }
          }
        }
      ]
    },
    {
      "cell_type": "markdown",
      "source": [
        "As also mentioned earlier, this graph shows that the casual users are having more `average_duration_of_rides` as compared the members."
      ],
      "metadata": {
        "id": "On9BGIWZfxKf"
      }
    },
    {
      "cell_type": "code",
      "source": [
        "# Export summary file for further analysis\n",
        "\n",
        "count<- aggregate(clean_data, ride_length ~ member_casual + day_of_week,\n",
        "FUN = mean)\n",
        "write.csv(count, file = \"average_ride_length.csv\")"
      ],
      "metadata": {
        "id": "Qen3xbXNXMV-"
      },
      "execution_count": 49,
      "outputs": []
    },
    {
      "cell_type": "markdown",
      "source": [
        "# Inferentital Analysis"
      ],
      "metadata": {
        "id": "Ts3YuvFKGYfh"
      }
    },
    {
      "cell_type": "markdown",
      "source": [
        "Here we will try to do some Inferential Analysis of the data based on three major lines, i.e. `ride_length`, `member_casual` and `day_of_week`.\n",
        "\n",
        "We will do some basic **Linear Regression** and try to find out which Variable (i.e. `member_casual` and/or `day_of_week`) is important and if it is, how much will it be able to predict the future `ride_length`."
      ],
      "metadata": {
        "id": "qCQUIsu2gP5O"
      }
    },
    {
      "cell_type": "code",
      "source": [
        "options(scipen = 999)  # Prevents from displaying values in exponential form"
      ],
      "metadata": {
        "id": "Mg6vVkZEPkUw"
      },
      "execution_count": 50,
      "outputs": []
    },
    {
      "cell_type": "markdown",
      "source": [
        "First we will convert these categorical variables (i.e. `member_casual` and/or `day_of_week`)into **Dummy Variables** making regression analysis simple and doable."
      ],
      "metadata": {
        "id": "ecwyf0gphanx"
      }
    },
    {
      "cell_type": "code",
      "source": [
        "install.packages(\"fastDummies\")\n",
        "library(fastDummies)"
      ],
      "metadata": {
        "colab": {
          "base_uri": "https://localhost:8080/"
        },
        "id": "zGxfnoLLJT9a",
        "outputId": "99b38642-ff9f-4a45-814a-ed08af1b3be0"
      },
      "execution_count": 51,
      "outputs": [
        {
          "output_type": "stream",
          "name": "stderr",
          "text": [
            "Installing package into ‘/usr/local/lib/R/site-library’\n",
            "(as ‘lib’ is unspecified)\n",
            "\n"
          ]
        }
      ]
    },
    {
      "cell_type": "code",
      "source": [
        "df_dummies <- dummy_cols(\n",
        "    clean_data, select_columns = c(\"member_casual\", \"day_of_week\"),\n",
        "remove_first_dummy = TRUE)\n",
        "head(df_dummies)"
      ],
      "metadata": {
        "colab": {
          "base_uri": "https://localhost:8080/",
          "height": 514
        },
        "id": "6WnKQNYUJaD6",
        "outputId": "30af1979-0177-4f25-862d-c72d6541156b"
      },
      "execution_count": 52,
      "outputs": [
        {
          "output_type": "display_data",
          "data": {
            "text/html": [
              "<table class=\"dataframe\">\n",
              "<caption>A data.frame: 6 × 19</caption>\n",
              "<thead>\n",
              "\t<tr><th></th><th scope=col>started_at</th><th scope=col>ended_at</th><th scope=col>start_station_name</th><th scope=col>end_station_name</th><th scope=col>member_casual</th><th scope=col>Date</th><th scope=col>month</th><th scope=col>day</th><th scope=col>year</th><th scope=col>day_of_week</th><th scope=col>ride_length</th><th scope=col>log_ride_length</th><th scope=col>member_casual_member</th><th scope=col>day_of_week_Monday</th><th scope=col>day_of_week_Tuesday</th><th scope=col>day_of_week_Wednesday</th><th scope=col>day_of_week_Thursday</th><th scope=col>day_of_week_Friday</th><th scope=col>day_of_week_Saturday</th></tr>\n",
              "\t<tr><th></th><th scope=col>&lt;dttm&gt;</th><th scope=col>&lt;dttm&gt;</th><th scope=col>&lt;chr&gt;</th><th scope=col>&lt;chr&gt;</th><th scope=col>&lt;chr&gt;</th><th scope=col>&lt;date&gt;</th><th scope=col>&lt;chr&gt;</th><th scope=col>&lt;chr&gt;</th><th scope=col>&lt;chr&gt;</th><th scope=col>&lt;ord&gt;</th><th scope=col>&lt;dbl&gt;</th><th scope=col>&lt;dbl&gt;</th><th scope=col>&lt;int&gt;</th><th scope=col>&lt;int&gt;</th><th scope=col>&lt;int&gt;</th><th scope=col>&lt;int&gt;</th><th scope=col>&lt;int&gt;</th><th scope=col>&lt;int&gt;</th><th scope=col>&lt;int&gt;</th></tr>\n",
              "</thead>\n",
              "<tbody>\n",
              "\t<tr><th scope=row>1</th><td>2019-01-01 00:04:37</td><td>2019-01-01 00:11:07</td><td><span style=white-space:pre-wrap>Wabash Ave &amp; Grand Ave             </span></td><td><span style=white-space:pre-wrap>Milwaukee Ave &amp; Grand Ave     </span></td><td>member</td><td>2019-01-01</td><td>01</td><td>01</td><td>19</td><td>Tuesday</td><td> 390</td><td>5.968708</td><td>1</td><td>0</td><td>1</td><td>0</td><td>0</td><td>0</td><td>0</td></tr>\n",
              "\t<tr><th scope=row>2</th><td>2019-01-01 00:08:13</td><td>2019-01-01 00:15:34</td><td><span style=white-space:pre-wrap>State St &amp; Randolph St             </span></td><td>Dearborn St &amp; Van Buren St (*)</td><td>member</td><td>2019-01-01</td><td>01</td><td>01</td><td>19</td><td>Tuesday</td><td> 441</td><td>6.091310</td><td>1</td><td>0</td><td>1</td><td>0</td><td>0</td><td>0</td><td>0</td></tr>\n",
              "\t<tr><th scope=row>3</th><td>2019-01-01 00:13:23</td><td>2019-01-01 00:27:12</td><td><span style=white-space:pre-wrap>Racine Ave &amp; 18th St               </span></td><td>Western Ave &amp; Fillmore St (*) </td><td>member</td><td>2019-01-01</td><td>01</td><td>01</td><td>19</td><td>Tuesday</td><td> 829</td><td>6.721426</td><td>1</td><td>0</td><td>1</td><td>0</td><td>0</td><td>0</td><td>0</td></tr>\n",
              "\t<tr><th scope=row>4</th><td>2019-01-01 00:13:45</td><td>2019-01-01 00:43:28</td><td><span style=white-space:pre-wrap>California Ave &amp; Milwaukee Ave     </span></td><td><span style=white-space:pre-wrap>Clark St &amp; Elm St             </span></td><td>member</td><td>2019-01-01</td><td>01</td><td>01</td><td>19</td><td>Tuesday</td><td>1783</td><td>7.486613</td><td>1</td><td>0</td><td>1</td><td>0</td><td>0</td><td>0</td><td>0</td></tr>\n",
              "\t<tr><th scope=row>5</th><td>2019-01-01 00:14:52</td><td>2019-01-01 00:20:56</td><td>Mies van der Rohe Way &amp; Chicago Ave</td><td><span style=white-space:pre-wrap>Streeter Dr &amp; Grand Ave       </span></td><td>member</td><td>2019-01-01</td><td>01</td><td>01</td><td>19</td><td>Tuesday</td><td> 364</td><td>5.899897</td><td>1</td><td>0</td><td>1</td><td>0</td><td>0</td><td>0</td><td>0</td></tr>\n",
              "\t<tr><th scope=row>6</th><td>2019-01-01 00:15:33</td><td>2019-01-01 00:19:09</td><td><span style=white-space:pre-wrap>LaSalle St &amp; Washington St         </span></td><td><span style=white-space:pre-wrap>Dearborn St &amp; Monroe St       </span></td><td>member</td><td>2019-01-01</td><td>01</td><td>01</td><td>19</td><td>Tuesday</td><td> 216</td><td>5.379897</td><td>1</td><td>0</td><td>1</td><td>0</td><td>0</td><td>0</td><td>0</td></tr>\n",
              "</tbody>\n",
              "</table>\n"
            ],
            "text/markdown": "\nA data.frame: 6 × 19\n\n| <!--/--> | started_at &lt;dttm&gt; | ended_at &lt;dttm&gt; | start_station_name &lt;chr&gt; | end_station_name &lt;chr&gt; | member_casual &lt;chr&gt; | Date &lt;date&gt; | month &lt;chr&gt; | day &lt;chr&gt; | year &lt;chr&gt; | day_of_week &lt;ord&gt; | ride_length &lt;dbl&gt; | log_ride_length &lt;dbl&gt; | member_casual_member &lt;int&gt; | day_of_week_Monday &lt;int&gt; | day_of_week_Tuesday &lt;int&gt; | day_of_week_Wednesday &lt;int&gt; | day_of_week_Thursday &lt;int&gt; | day_of_week_Friday &lt;int&gt; | day_of_week_Saturday &lt;int&gt; |\n|---|---|---|---|---|---|---|---|---|---|---|---|---|---|---|---|---|---|---|---|\n| 1 | 2019-01-01 00:04:37 | 2019-01-01 00:11:07 | Wabash Ave &amp; Grand Ave              | Milwaukee Ave &amp; Grand Ave      | member | 2019-01-01 | 01 | 01 | 19 | Tuesday |  390 | 5.968708 | 1 | 0 | 1 | 0 | 0 | 0 | 0 |\n| 2 | 2019-01-01 00:08:13 | 2019-01-01 00:15:34 | State St &amp; Randolph St              | Dearborn St &amp; Van Buren St (*) | member | 2019-01-01 | 01 | 01 | 19 | Tuesday |  441 | 6.091310 | 1 | 0 | 1 | 0 | 0 | 0 | 0 |\n| 3 | 2019-01-01 00:13:23 | 2019-01-01 00:27:12 | Racine Ave &amp; 18th St                | Western Ave &amp; Fillmore St (*)  | member | 2019-01-01 | 01 | 01 | 19 | Tuesday |  829 | 6.721426 | 1 | 0 | 1 | 0 | 0 | 0 | 0 |\n| 4 | 2019-01-01 00:13:45 | 2019-01-01 00:43:28 | California Ave &amp; Milwaukee Ave      | Clark St &amp; Elm St              | member | 2019-01-01 | 01 | 01 | 19 | Tuesday | 1783 | 7.486613 | 1 | 0 | 1 | 0 | 0 | 0 | 0 |\n| 5 | 2019-01-01 00:14:52 | 2019-01-01 00:20:56 | Mies van der Rohe Way &amp; Chicago Ave | Streeter Dr &amp; Grand Ave        | member | 2019-01-01 | 01 | 01 | 19 | Tuesday |  364 | 5.899897 | 1 | 0 | 1 | 0 | 0 | 0 | 0 |\n| 6 | 2019-01-01 00:15:33 | 2019-01-01 00:19:09 | LaSalle St &amp; Washington St          | Dearborn St &amp; Monroe St        | member | 2019-01-01 | 01 | 01 | 19 | Tuesday |  216 | 5.379897 | 1 | 0 | 1 | 0 | 0 | 0 | 0 |\n\n",
            "text/latex": "A data.frame: 6 × 19\n\\begin{tabular}{r|lllllllllllllllllll}\n  & started\\_at & ended\\_at & start\\_station\\_name & end\\_station\\_name & member\\_casual & Date & month & day & year & day\\_of\\_week & ride\\_length & log\\_ride\\_length & member\\_casual\\_member & day\\_of\\_week\\_Monday & day\\_of\\_week\\_Tuesday & day\\_of\\_week\\_Wednesday & day\\_of\\_week\\_Thursday & day\\_of\\_week\\_Friday & day\\_of\\_week\\_Saturday\\\\\n  & <dttm> & <dttm> & <chr> & <chr> & <chr> & <date> & <chr> & <chr> & <chr> & <ord> & <dbl> & <dbl> & <int> & <int> & <int> & <int> & <int> & <int> & <int>\\\\\n\\hline\n\t1 & 2019-01-01 00:04:37 & 2019-01-01 00:11:07 & Wabash Ave \\& Grand Ave              & Milwaukee Ave \\& Grand Ave      & member & 2019-01-01 & 01 & 01 & 19 & Tuesday &  390 & 5.968708 & 1 & 0 & 1 & 0 & 0 & 0 & 0\\\\\n\t2 & 2019-01-01 00:08:13 & 2019-01-01 00:15:34 & State St \\& Randolph St              & Dearborn St \\& Van Buren St (*) & member & 2019-01-01 & 01 & 01 & 19 & Tuesday &  441 & 6.091310 & 1 & 0 & 1 & 0 & 0 & 0 & 0\\\\\n\t3 & 2019-01-01 00:13:23 & 2019-01-01 00:27:12 & Racine Ave \\& 18th St                & Western Ave \\& Fillmore St (*)  & member & 2019-01-01 & 01 & 01 & 19 & Tuesday &  829 & 6.721426 & 1 & 0 & 1 & 0 & 0 & 0 & 0\\\\\n\t4 & 2019-01-01 00:13:45 & 2019-01-01 00:43:28 & California Ave \\& Milwaukee Ave      & Clark St \\& Elm St              & member & 2019-01-01 & 01 & 01 & 19 & Tuesday & 1783 & 7.486613 & 1 & 0 & 1 & 0 & 0 & 0 & 0\\\\\n\t5 & 2019-01-01 00:14:52 & 2019-01-01 00:20:56 & Mies van der Rohe Way \\& Chicago Ave & Streeter Dr \\& Grand Ave        & member & 2019-01-01 & 01 & 01 & 19 & Tuesday &  364 & 5.899897 & 1 & 0 & 1 & 0 & 0 & 0 & 0\\\\\n\t6 & 2019-01-01 00:15:33 & 2019-01-01 00:19:09 & LaSalle St \\& Washington St          & Dearborn St \\& Monroe St        & member & 2019-01-01 & 01 & 01 & 19 & Tuesday &  216 & 5.379897 & 1 & 0 & 1 & 0 & 0 & 0 & 0\\\\\n\\end{tabular}\n",
            "text/plain": [
              "  started_at          ended_at            start_station_name                 \n",
              "1 2019-01-01 00:04:37 2019-01-01 00:11:07 Wabash Ave & Grand Ave             \n",
              "2 2019-01-01 00:08:13 2019-01-01 00:15:34 State St & Randolph St             \n",
              "3 2019-01-01 00:13:23 2019-01-01 00:27:12 Racine Ave & 18th St               \n",
              "4 2019-01-01 00:13:45 2019-01-01 00:43:28 California Ave & Milwaukee Ave     \n",
              "5 2019-01-01 00:14:52 2019-01-01 00:20:56 Mies van der Rohe Way & Chicago Ave\n",
              "6 2019-01-01 00:15:33 2019-01-01 00:19:09 LaSalle St & Washington St         \n",
              "  end_station_name               member_casual Date       month day year\n",
              "1 Milwaukee Ave & Grand Ave      member        2019-01-01 01    01  19  \n",
              "2 Dearborn St & Van Buren St (*) member        2019-01-01 01    01  19  \n",
              "3 Western Ave & Fillmore St (*)  member        2019-01-01 01    01  19  \n",
              "4 Clark St & Elm St              member        2019-01-01 01    01  19  \n",
              "5 Streeter Dr & Grand Ave        member        2019-01-01 01    01  19  \n",
              "6 Dearborn St & Monroe St        member        2019-01-01 01    01  19  \n",
              "  day_of_week ride_length log_ride_length member_casual_member\n",
              "1 Tuesday      390        5.968708        1                   \n",
              "2 Tuesday      441        6.091310        1                   \n",
              "3 Tuesday      829        6.721426        1                   \n",
              "4 Tuesday     1783        7.486613        1                   \n",
              "5 Tuesday      364        5.899897        1                   \n",
              "6 Tuesday      216        5.379897        1                   \n",
              "  day_of_week_Monday day_of_week_Tuesday day_of_week_Wednesday\n",
              "1 0                  1                   0                    \n",
              "2 0                  1                   0                    \n",
              "3 0                  1                   0                    \n",
              "4 0                  1                   0                    \n",
              "5 0                  1                   0                    \n",
              "6 0                  1                   0                    \n",
              "  day_of_week_Thursday day_of_week_Friday day_of_week_Saturday\n",
              "1 0                    0                  0                   \n",
              "2 0                    0                  0                   \n",
              "3 0                    0                  0                   \n",
              "4 0                    0                  0                   \n",
              "5 0                    0                  0                   \n",
              "6 0                    0                  0                   "
            ]
          },
          "metadata": {}
        }
      ]
    },
    {
      "cell_type": "code",
      "source": [
        "# Renaming Dummies\n",
        "df_dummies <- rename(df_dummies,\n",
        "                    D1 = member_casual_member,\n",
        "                    D_mon = day_of_week_Monday,\n",
        "                    D_tue = day_of_week_Tuesday,\n",
        "                    D_wed = day_of_week_Wednesday,\n",
        "                    D_thur = day_of_week_Thursday,\n",
        "                    D_fri = day_of_week_Friday,\n",
        "                    D_sat = day_of_week_Saturday)\n",
        "colnames(df_dummies)"
      ],
      "metadata": {
        "colab": {
          "base_uri": "https://localhost:8080/",
          "height": 52
        },
        "id": "eB29CE5qMUmh",
        "outputId": "c6cf820b-15a6-4a5a-801f-aac730cc12bd"
      },
      "execution_count": 53,
      "outputs": [
        {
          "output_type": "display_data",
          "data": {
            "text/html": [
              "<style>\n",
              ".list-inline {list-style: none; margin:0; padding: 0}\n",
              ".list-inline>li {display: inline-block}\n",
              ".list-inline>li:not(:last-child)::after {content: \"\\00b7\"; padding: 0 .5ex}\n",
              "</style>\n",
              "<ol class=list-inline><li>'started_at'</li><li>'ended_at'</li><li>'start_station_name'</li><li>'end_station_name'</li><li>'member_casual'</li><li>'Date'</li><li>'month'</li><li>'day'</li><li>'year'</li><li>'day_of_week'</li><li>'ride_length'</li><li>'log_ride_length'</li><li>'D1'</li><li>'D_mon'</li><li>'D_tue'</li><li>'D_wed'</li><li>'D_thur'</li><li>'D_fri'</li><li>'D_sat'</li></ol>\n"
            ],
            "text/markdown": "1. 'started_at'\n2. 'ended_at'\n3. 'start_station_name'\n4. 'end_station_name'\n5. 'member_casual'\n6. 'Date'\n7. 'month'\n8. 'day'\n9. 'year'\n10. 'day_of_week'\n11. 'ride_length'\n12. 'log_ride_length'\n13. 'D1'\n14. 'D_mon'\n15. 'D_tue'\n16. 'D_wed'\n17. 'D_thur'\n18. 'D_fri'\n19. 'D_sat'\n\n\n",
            "text/latex": "\\begin{enumerate*}\n\\item 'started\\_at'\n\\item 'ended\\_at'\n\\item 'start\\_station\\_name'\n\\item 'end\\_station\\_name'\n\\item 'member\\_casual'\n\\item 'Date'\n\\item 'month'\n\\item 'day'\n\\item 'year'\n\\item 'day\\_of\\_week'\n\\item 'ride\\_length'\n\\item 'log\\_ride\\_length'\n\\item 'D1'\n\\item 'D\\_mon'\n\\item 'D\\_tue'\n\\item 'D\\_wed'\n\\item 'D\\_thur'\n\\item 'D\\_fri'\n\\item 'D\\_sat'\n\\end{enumerate*}\n",
            "text/plain": [
              " [1] \"started_at\"         \"ended_at\"           \"start_station_name\"\n",
              " [4] \"end_station_name\"   \"member_casual\"      \"Date\"              \n",
              " [7] \"month\"              \"day\"                \"year\"              \n",
              "[10] \"day_of_week\"        \"ride_length\"        \"log_ride_length\"   \n",
              "[13] \"D1\"                 \"D_mon\"              \"D_tue\"             \n",
              "[16] \"D_wed\"              \"D_thur\"             \"D_fri\"             \n",
              "[19] \"D_sat\"             "
            ]
          },
          "metadata": {}
        }
      ]
    },
    {
      "cell_type": "code",
      "source": [
        "df_dummies <- df_dummies %>%\n",
        "  select(-c(started_at, ended_at, start_station_name, end_station_name))\n",
        "head(df_dummies)"
      ],
      "metadata": {
        "colab": {
          "base_uri": "https://localhost:8080/",
          "height": 286
        },
        "id": "w-QMX3Z3NiIX",
        "outputId": "14890590-d784-4802-be62-5d7b978c1d56"
      },
      "execution_count": 54,
      "outputs": [
        {
          "output_type": "display_data",
          "data": {
            "text/html": [
              "<table class=\"dataframe\">\n",
              "<caption>A data.frame: 6 × 15</caption>\n",
              "<thead>\n",
              "\t<tr><th></th><th scope=col>member_casual</th><th scope=col>Date</th><th scope=col>month</th><th scope=col>day</th><th scope=col>year</th><th scope=col>day_of_week</th><th scope=col>ride_length</th><th scope=col>log_ride_length</th><th scope=col>D1</th><th scope=col>D_mon</th><th scope=col>D_tue</th><th scope=col>D_wed</th><th scope=col>D_thur</th><th scope=col>D_fri</th><th scope=col>D_sat</th></tr>\n",
              "\t<tr><th></th><th scope=col>&lt;chr&gt;</th><th scope=col>&lt;date&gt;</th><th scope=col>&lt;chr&gt;</th><th scope=col>&lt;chr&gt;</th><th scope=col>&lt;chr&gt;</th><th scope=col>&lt;ord&gt;</th><th scope=col>&lt;dbl&gt;</th><th scope=col>&lt;dbl&gt;</th><th scope=col>&lt;int&gt;</th><th scope=col>&lt;int&gt;</th><th scope=col>&lt;int&gt;</th><th scope=col>&lt;int&gt;</th><th scope=col>&lt;int&gt;</th><th scope=col>&lt;int&gt;</th><th scope=col>&lt;int&gt;</th></tr>\n",
              "</thead>\n",
              "<tbody>\n",
              "\t<tr><th scope=row>1</th><td>member</td><td>2019-01-01</td><td>01</td><td>01</td><td>19</td><td>Tuesday</td><td> 390</td><td>5.968708</td><td>1</td><td>0</td><td>1</td><td>0</td><td>0</td><td>0</td><td>0</td></tr>\n",
              "\t<tr><th scope=row>2</th><td>member</td><td>2019-01-01</td><td>01</td><td>01</td><td>19</td><td>Tuesday</td><td> 441</td><td>6.091310</td><td>1</td><td>0</td><td>1</td><td>0</td><td>0</td><td>0</td><td>0</td></tr>\n",
              "\t<tr><th scope=row>3</th><td>member</td><td>2019-01-01</td><td>01</td><td>01</td><td>19</td><td>Tuesday</td><td> 829</td><td>6.721426</td><td>1</td><td>0</td><td>1</td><td>0</td><td>0</td><td>0</td><td>0</td></tr>\n",
              "\t<tr><th scope=row>4</th><td>member</td><td>2019-01-01</td><td>01</td><td>01</td><td>19</td><td>Tuesday</td><td>1783</td><td>7.486613</td><td>1</td><td>0</td><td>1</td><td>0</td><td>0</td><td>0</td><td>0</td></tr>\n",
              "\t<tr><th scope=row>5</th><td>member</td><td>2019-01-01</td><td>01</td><td>01</td><td>19</td><td>Tuesday</td><td> 364</td><td>5.899897</td><td>1</td><td>0</td><td>1</td><td>0</td><td>0</td><td>0</td><td>0</td></tr>\n",
              "\t<tr><th scope=row>6</th><td>member</td><td>2019-01-01</td><td>01</td><td>01</td><td>19</td><td>Tuesday</td><td> 216</td><td>5.379897</td><td>1</td><td>0</td><td>1</td><td>0</td><td>0</td><td>0</td><td>0</td></tr>\n",
              "</tbody>\n",
              "</table>\n"
            ],
            "text/markdown": "\nA data.frame: 6 × 15\n\n| <!--/--> | member_casual &lt;chr&gt; | Date &lt;date&gt; | month &lt;chr&gt; | day &lt;chr&gt; | year &lt;chr&gt; | day_of_week &lt;ord&gt; | ride_length &lt;dbl&gt; | log_ride_length &lt;dbl&gt; | D1 &lt;int&gt; | D_mon &lt;int&gt; | D_tue &lt;int&gt; | D_wed &lt;int&gt; | D_thur &lt;int&gt; | D_fri &lt;int&gt; | D_sat &lt;int&gt; |\n|---|---|---|---|---|---|---|---|---|---|---|---|---|---|---|---|\n| 1 | member | 2019-01-01 | 01 | 01 | 19 | Tuesday |  390 | 5.968708 | 1 | 0 | 1 | 0 | 0 | 0 | 0 |\n| 2 | member | 2019-01-01 | 01 | 01 | 19 | Tuesday |  441 | 6.091310 | 1 | 0 | 1 | 0 | 0 | 0 | 0 |\n| 3 | member | 2019-01-01 | 01 | 01 | 19 | Tuesday |  829 | 6.721426 | 1 | 0 | 1 | 0 | 0 | 0 | 0 |\n| 4 | member | 2019-01-01 | 01 | 01 | 19 | Tuesday | 1783 | 7.486613 | 1 | 0 | 1 | 0 | 0 | 0 | 0 |\n| 5 | member | 2019-01-01 | 01 | 01 | 19 | Tuesday |  364 | 5.899897 | 1 | 0 | 1 | 0 | 0 | 0 | 0 |\n| 6 | member | 2019-01-01 | 01 | 01 | 19 | Tuesday |  216 | 5.379897 | 1 | 0 | 1 | 0 | 0 | 0 | 0 |\n\n",
            "text/latex": "A data.frame: 6 × 15\n\\begin{tabular}{r|lllllllllllllll}\n  & member\\_casual & Date & month & day & year & day\\_of\\_week & ride\\_length & log\\_ride\\_length & D1 & D\\_mon & D\\_tue & D\\_wed & D\\_thur & D\\_fri & D\\_sat\\\\\n  & <chr> & <date> & <chr> & <chr> & <chr> & <ord> & <dbl> & <dbl> & <int> & <int> & <int> & <int> & <int> & <int> & <int>\\\\\n\\hline\n\t1 & member & 2019-01-01 & 01 & 01 & 19 & Tuesday &  390 & 5.968708 & 1 & 0 & 1 & 0 & 0 & 0 & 0\\\\\n\t2 & member & 2019-01-01 & 01 & 01 & 19 & Tuesday &  441 & 6.091310 & 1 & 0 & 1 & 0 & 0 & 0 & 0\\\\\n\t3 & member & 2019-01-01 & 01 & 01 & 19 & Tuesday &  829 & 6.721426 & 1 & 0 & 1 & 0 & 0 & 0 & 0\\\\\n\t4 & member & 2019-01-01 & 01 & 01 & 19 & Tuesday & 1783 & 7.486613 & 1 & 0 & 1 & 0 & 0 & 0 & 0\\\\\n\t5 & member & 2019-01-01 & 01 & 01 & 19 & Tuesday &  364 & 5.899897 & 1 & 0 & 1 & 0 & 0 & 0 & 0\\\\\n\t6 & member & 2019-01-01 & 01 & 01 & 19 & Tuesday &  216 & 5.379897 & 1 & 0 & 1 & 0 & 0 & 0 & 0\\\\\n\\end{tabular}\n",
            "text/plain": [
              "  member_casual Date       month day year day_of_week ride_length\n",
              "1 member        2019-01-01 01    01  19   Tuesday      390       \n",
              "2 member        2019-01-01 01    01  19   Tuesday      441       \n",
              "3 member        2019-01-01 01    01  19   Tuesday      829       \n",
              "4 member        2019-01-01 01    01  19   Tuesday     1783       \n",
              "5 member        2019-01-01 01    01  19   Tuesday      364       \n",
              "6 member        2019-01-01 01    01  19   Tuesday      216       \n",
              "  log_ride_length D1 D_mon D_tue D_wed D_thur D_fri D_sat\n",
              "1 5.968708        1  0     1     0     0      0     0    \n",
              "2 6.091310        1  0     1     0     0      0     0    \n",
              "3 6.721426        1  0     1     0     0      0     0    \n",
              "4 7.486613        1  0     1     0     0      0     0    \n",
              "5 5.899897        1  0     1     0     0      0     0    \n",
              "6 5.379897        1  0     1     0     0      0     0    "
            ]
          },
          "metadata": {}
        }
      ]
    },
    {
      "cell_type": "markdown",
      "source": [
        "We will first define simple **ANOVA model** in which Dependent Variable is `ride_length` and the Independent Variable is `D1` i.e. member typer, either casual or member."
      ],
      "metadata": {
        "id": "VaczsvJOjaGf"
      }
    },
    {
      "cell_type": "code",
      "source": [
        "# ANOVA Model 1(with member type)\n",
        "model_member <- lm(data = df_dummies, ride_length ~ D1)\n",
        "summary(model_member)"
      ],
      "metadata": {
        "colab": {
          "base_uri": "https://localhost:8080/",
          "height": 344
        },
        "id": "ICjCvqPfO4EX",
        "outputId": "e7eb8350-5881-427c-de1b-e798b0db4f68"
      },
      "execution_count": 55,
      "outputs": [
        {
          "output_type": "display_data",
          "data": {
            "text/plain": [
              "\n",
              "Call:\n",
              "lm(formula = ride_length ~ D1, data = df_dummies)\n",
              "\n",
              "Residuals:\n",
              "    Min      1Q  Median      3Q     Max \n",
              "-960.22 -276.49  -92.49  194.51 1198.51 \n",
              "\n",
              "Coefficients:\n",
              "            Estimate Std. Error t value            Pr(>|t|)    \n",
              "(Intercept)  962.218      1.775   542.1 <0.0000000000000002 ***\n",
              "D1          -377.728      1.830  -206.4 <0.0000000000000002 ***\n",
              "---\n",
              "Signif. codes:  0 ‘***’ 0.001 ‘**’ 0.01 ‘*’ 0.05 ‘.’ 0.1 ‘ ’ 1\n",
              "\n",
              "Residual standard error: 370 on 733720 degrees of freedom\n",
              "Multiple R-squared:  0.05489,\tAdjusted R-squared:  0.05489 \n",
              "F-statistic: 4.261e+04 on 1 and 733720 DF,  p-value: < 0.00000000000000022\n"
            ]
          },
          "metadata": {}
        }
      ]
    },
    {
      "cell_type": "markdown",
      "source": [
        "This shows that the Variable D1 is highly singnificant and has a negative relation with the independent variable. This means that with one unit increae in `D1` the `ride_length` decreases by aproximately 378 units.\n",
        "\n",
        "We know that `D1` is 1 when member and is 0 when casual, thus it shows that the difference between the ride length of member and casual user type is aproximately 378 seconds, where casual users are having more ride length.\n",
        "\n",
        "At the same time the R\\^2 is too low i.e. around 5%, showing that the model is not reliable as it does not effectivly define the causality of the Dependent variable."
      ],
      "metadata": {
        "id": "alzFHGuNkAsI"
      }
    },
    {
      "cell_type": "markdown",
      "source": [
        "Now we will try another ANOVA model where the Dependent Variable is same, `ride_length` and Independent variables are dummies for `day_of_week` category and we'll check how well are they defining the causality of dependent variable."
      ],
      "metadata": {
        "id": "acTOlgnCmEbp"
      }
    },
    {
      "cell_type": "code",
      "source": [
        "# ANOVA Model (day of week)\n",
        "model_day <- lm(data = df_dummies, ride_length ~ D_mon + D_tue +\n",
        "  D_wed + D_thur + D_fri + D_sat)\n",
        "summary(model_day)"
      ],
      "metadata": {
        "colab": {
          "base_uri": "https://localhost:8080/",
          "height": 453
        },
        "id": "3P_XCneOPt_j",
        "outputId": "55a84315-0400-4146-9a9b-82fed3be292f"
      },
      "execution_count": 56,
      "outputs": [
        {
          "output_type": "display_data",
          "data": {
            "text/plain": [
              "\n",
              "Call:\n",
              "lm(formula = ride_length ~ D_mon + D_tue + D_wed + D_thur + D_fri + \n",
              "    D_sat, data = df_dummies)\n",
              "\n",
              "Residuals:\n",
              "    Min      1Q  Median      3Q     Max \n",
              "-683.34 -287.11  -98.82  197.53 1195.18 \n",
              "\n",
              "Coefficients:\n",
              "            Estimate Std. Error t value            Pr(>|t|)    \n",
              "(Intercept)  685.336      1.471  465.85 <0.0000000000000002 ***\n",
              "D_mon        -93.230      1.862  -50.06 <0.0000000000000002 ***\n",
              "D_tue        -87.650      1.813  -48.34 <0.0000000000000002 ***\n",
              "D_wed        -88.869      1.829  -48.59 <0.0000000000000002 ***\n",
              "D_thur       -92.738      1.819  -50.97 <0.0000000000000002 ***\n",
              "D_fri        -97.511      1.844  -52.89 <0.0000000000000002 ***\n",
              "D_sat        -33.833      2.099  -16.12 <0.0000000000000002 ***\n",
              "---\n",
              "Signif. codes:  0 ‘***’ 0.001 ‘**’ 0.01 ‘*’ 0.05 ‘.’ 0.1 ‘ ’ 1\n",
              "\n",
              "Residual standard error: 379.4 on 733715 degrees of freedom\n",
              "Multiple R-squared:  0.006149,\tAdjusted R-squared:  0.006141 \n",
              "F-statistic: 756.6 on 6 and 733715 DF,  p-value: < 0.00000000000000022\n"
            ]
          },
          "metadata": {}
        }
      ]
    },
    {
      "cell_type": "markdown",
      "source": [
        "This also shows that the Variables `D_mon`, `D_tue`, `D_wed`, `D_thur`, `D_fri` and`D_sat` are highly singnificant and are having a negative relation with the independent variable.\n",
        "\n",
        "We know that these dummies are for respective day of week and is 1 when it is that day and is 0 otherwise i.e. any other day.\n",
        "\n",
        "Here also the R\\^2 is too low i.e. around 0.6%, showing that the model is not reliable as it does not effectivly define the causality of the Dependent variable."
      ],
      "metadata": {
        "id": "FCHLxWvCmobW"
      }
    },
    {
      "cell_type": "markdown",
      "source": [
        "Now, let's define another model with both categories i.e. `member_casual` and `day_of_week`, and check their significance."
      ],
      "metadata": {
        "id": "SOdj50Shnst8"
      }
    },
    {
      "cell_type": "code",
      "source": [
        "# ANOVA Model (member & day of week)\n",
        "model_member_day <- lm(data = df_dummies, ride_length ~ D1 + D_mon + D_tue +\n",
        "  D_wed + D_thur + D_fri + D_sat)\n",
        "summary(model_member_day)"
      ],
      "metadata": {
        "colab": {
          "base_uri": "https://localhost:8080/",
          "height": 471
        },
        "id": "Uvb-MvPkTyd6",
        "outputId": "b12fc01d-0a2d-4ec9-b15c-cc044202a886"
      },
      "execution_count": 57,
      "outputs": [
        {
          "output_type": "display_data",
          "data": {
            "text/plain": [
              "\n",
              "Call:\n",
              "lm(formula = ride_length ~ D1 + D_mon + D_tue + D_wed + D_thur + \n",
              "    D_fri + D_sat, data = df_dummies)\n",
              "\n",
              "Residuals:\n",
              "    Min      1Q  Median      3Q     Max \n",
              "-991.04 -276.84  -91.97  195.02 1212.81 \n",
              "\n",
              "Coefficients:\n",
              "            Estimate Std. Error t value            Pr(>|t|)    \n",
              "(Intercept)  994.039      2.118  469.22 <0.0000000000000002 ***\n",
              "D1          -367.247      1.856 -197.90 <0.0000000000000002 ***\n",
              "D_mon        -47.950      1.829  -26.22 <0.0000000000000002 ***\n",
              "D_tue        -43.756      1.780  -24.58 <0.0000000000000002 ***\n",
              "D_wed        -44.879      1.796  -24.99 <0.0000000000000002 ***\n",
              "D_thur       -48.817      1.786  -27.33 <0.0000000000000002 ***\n",
              "D_fri        -56.604      1.808  -31.31 <0.0000000000000002 ***\n",
              "D_sat        -22.823      2.046  -11.16 <0.0000000000000002 ***\n",
              "---\n",
              "Signif. codes:  0 ‘***’ 0.001 ‘**’ 0.01 ‘*’ 0.05 ‘.’ 0.1 ‘ ’ 1\n",
              "\n",
              "Residual standard error: 369.7 on 733714 degrees of freedom\n",
              "Multiple R-squared:  0.05651,\tAdjusted R-squared:  0.0565 \n",
              "F-statistic:  6278 on 7 and 733714 DF,  p-value: < 0.00000000000000022\n"
            ]
          },
          "metadata": {}
        }
      ]
    },
    {
      "cell_type": "markdown",
      "source": [
        "This too shows that these variables are highly significant and have a negatve relation with the dependent variable i.e. `ride_length`.\n",
        "\n",
        "Here also the R\\^2 is too low, showing that the model is not well specified and does not tell much about the causality of the `ride_length`.\n",
        "\n",
        "According to the data avalabe with us, that's all inference we can get about the `ride_length`. To get a better picture we need more data on other categories or variables that can make model correctly specified.\n",
        "\n",
        "OR we can try other models for inferences."
      ],
      "metadata": {
        "id": "afcqtERIoPOW"
      }
    },
    {
      "cell_type": "markdown",
      "source": [
        "Let's try the **Robust Linear Regression (rlm)**, where `ride_length` is the dependent variable, and the independent variables are `D1`, `D_mon`, `D_tue`, `D_wed`, `D_thur`, `D_fri`, and `D_sat`.\n",
        "\n",
        " As we have observed that there are many extream values in the data, to address that we have used the Robust Linear regression model as it is less sensitive to the extream values."
      ],
      "metadata": {
        "id": "kztPTGTxrx3A"
      }
    },
    {
      "cell_type": "code",
      "source": [
        "library(MASS)\n",
        "robust_model <- rlm(data = df_dummies, ride_length ~ D1 + D_mon + D_tue +\n",
        "  D_wed + D_thur + D_fri + D_sat)\n",
        "summary(robust_model)"
      ],
      "metadata": {
        "colab": {
          "base_uri": "https://localhost:8080/",
          "height": 362
        },
        "id": "9vMEKf16jgIl",
        "outputId": "3303208b-2885-4c73-a230-e47a043162f2"
      },
      "execution_count": 58,
      "outputs": [
        {
          "output_type": "display_data",
          "data": {
            "text/plain": [
              "\n",
              "Call: rlm(formula = ride_length ~ D1 + D_mon + D_tue + D_wed + D_thur + \n",
              "    D_fri + D_sat, data = df_dummies)\n",
              "Residuals:\n",
              "    Min      1Q  Median      3Q     Max \n",
              "-976.78 -239.00  -54.24  231.81 1249.81 \n",
              "\n",
              "Coefficients:\n",
              "            Value     Std. Error t value  \n",
              "(Intercept)  979.7766    1.9472   503.1633\n",
              "D1          -398.3194    1.7057  -233.5169\n",
              "D_mon        -40.5861    1.6810   -24.1434\n",
              "D_tue        -36.4574    1.6364   -22.2784\n",
              "D_wed        -37.2216    1.6506   -22.5505\n",
              "D_thur       -40.7503    1.6421   -24.8166\n",
              "D_fri        -48.2692    1.6620   -29.0436\n",
              "D_sat        -20.7560    1.8802   -11.0392\n",
              "\n",
              "Residual standard error: 351.2 on 733714 degrees of freedom"
            ]
          },
          "metadata": {}
        }
      ]
    },
    {
      "cell_type": "markdown",
      "source": [
        "This shows that, all coefficients have very high absolute t-values, indicating they are statistically significant. This suggests that all variables included in the model have a meaningful effect on ride length.\n",
        "\n",
        "**Residual Standard Error (RSE)** is 351.2, this represents the typical deviation of the actual ride length from the predicted values. Usually a lower RSE is desirable, as it indicates better model accuracy."
      ],
      "metadata": {
        "id": "7Fod2P2Ms8VR"
      }
    },
    {
      "cell_type": "code",
      "source": [
        "# exporting data for future analysis\n",
        "write.csv(df_dummies, \"df_dummies.csv\", row.names = FALSE)"
      ],
      "metadata": {
        "id": "Y7MKrtOyVVwP"
      },
      "execution_count": 59,
      "outputs": []
    },
    {
      "cell_type": "markdown",
      "source": [
        "# Future Actions"
      ],
      "metadata": {
        "id": "WtpxXA8stgXn"
      }
    },
    {
      "cell_type": "markdown",
      "source": [
        "1. **Feature Engineering & Additional Variables:**\n",
        "\n",
        "* Include more predictors like weather conditions, time of day, user demographics (if available), and trip purpose.\n",
        "* Interaction terms (e.g., User typer × Days of the Week) could help capture variations across user types.\n",
        "\n",
        "\n",
        "2. **Checking for Multicollinearity:**\n",
        "\n",
        "* Use **Variance Inflation Factor (VIF)** to check if some independent variables are too correlated, which could distort coefficients.\n",
        "\n",
        "\n",
        "3. **Alternative Models for Better Predictions:**\n",
        "\n",
        "* Random Forest or Gradient Boosting (XGBoost, LightGBM) could provide better predictions if non-linearity is present.\n",
        "* Generalized Additive Models (GAMs) allow for more flexibility in capturing trends.\n",
        "\n",
        "\n",
        "4. **Improving Model Fit:**\n",
        "\n",
        "* Since RSE is 351.2, further reducing errors would be ideal.\n",
        "Exploring heteroscedasticity (varying error variance) and adjusting the model accordingly (Weighted Least Squares, Quantile Regression) may help.\n",
        "\n",
        "\n",
        "5. **Cross-Validation & Outlier Analysis:**\n",
        "\n",
        "* Use cross-validation to ensure the model generalizes well.\n",
        "Investigate residuals to detect outliers or influential observations that might be skewing results."
      ],
      "metadata": {
        "id": "roTAQXwbtzIr"
      }
    },
    {
      "cell_type": "markdown",
      "source": [
        "**Author:** Utkarsh Bhardwaj</br>\n",
        "**Publishing Date:** 24th Feburary, 2025</br>\n",
        "[LinkedIn](https://www.linkedin.com/in/utkarsh284/) | </br>\n",
        "[GitHub](https://github.com/utkarsh-284) | </br>\n",
        "[Kaggle](https://www.kaggle.com/utkarsh284)"
      ],
      "metadata": {
        "id": "D-cszC2zotTd"
      }
    }
  ]
}